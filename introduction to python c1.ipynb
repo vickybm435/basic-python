{
 "cells": [
  {
   "cell_type": "markdown",
   "id": "28335651",
   "metadata": {},
   "source": [
    "#  Basic Math / alg"
   ]
  },
  {
   "cell_type": "code",
   "execution_count": 1,
   "id": "e8fdb2aa",
   "metadata": {},
   "outputs": [
    {
     "data": {
      "text/plain": [
       "5"
      ]
     },
     "execution_count": 1,
     "metadata": {},
     "output_type": "execute_result"
    }
   ],
   "source": [
    "2+3"
   ]
  },
  {
   "cell_type": "code",
   "execution_count": 2,
   "id": "cd140fea",
   "metadata": {},
   "outputs": [
    {
     "data": {
      "text/plain": [
       "8"
      ]
     },
     "execution_count": 2,
     "metadata": {},
     "output_type": "execute_result"
    }
   ],
   "source": [
    "10-2"
   ]
  },
  {
   "cell_type": "code",
   "execution_count": 3,
   "id": "cd637839",
   "metadata": {},
   "outputs": [
    {
     "data": {
      "text/plain": [
       "10"
      ]
     },
     "execution_count": 3,
     "metadata": {},
     "output_type": "execute_result"
    }
   ],
   "source": [
    "2*5"
   ]
  },
  {
   "cell_type": "code",
   "execution_count": 4,
   "id": "d04b11d5",
   "metadata": {},
   "outputs": [
    {
     "data": {
      "text/plain": [
       "5.0"
      ]
     },
     "execution_count": 4,
     "metadata": {},
     "output_type": "execute_result"
    }
   ],
   "source": [
    "10/2"
   ]
  },
  {
   "cell_type": "code",
   "execution_count": 5,
   "id": "b578930f",
   "metadata": {},
   "outputs": [
    {
     "data": {
      "text/plain": [
       "10"
      ]
     },
     "execution_count": 5,
     "metadata": {},
     "output_type": "execute_result"
    }
   ],
   "source": [
    "20//2 # quotient"
   ]
  },
  {
   "cell_type": "code",
   "execution_count": 6,
   "id": "e652f539",
   "metadata": {},
   "outputs": [
    {
     "data": {
      "text/plain": [
       "0"
      ]
     },
     "execution_count": 6,
     "metadata": {},
     "output_type": "execute_result"
    }
   ],
   "source": [
    "10%2 # remainder"
   ]
  },
  {
   "cell_type": "code",
   "execution_count": 7,
   "id": "5db362d5",
   "metadata": {},
   "outputs": [
    {
     "data": {
      "text/plain": [
       "25"
      ]
     },
     "execution_count": 7,
     "metadata": {},
     "output_type": "execute_result"
    }
   ],
   "source": [
    "5**2 #exponential"
   ]
  },
  {
   "cell_type": "code",
   "execution_count": 8,
   "id": "986a0d21",
   "metadata": {},
   "outputs": [
    {
     "data": {
      "text/plain": [
       "25"
      ]
     },
     "execution_count": 8,
     "metadata": {},
     "output_type": "execute_result"
    }
   ],
   "source": [
    "pow(5,2)"
   ]
  },
  {
   "cell_type": "code",
   "execution_count": 9,
   "id": "9c7c2c5c",
   "metadata": {},
   "outputs": [
    {
     "data": {
      "text/plain": [
       "64"
      ]
     },
     "execution_count": 9,
     "metadata": {},
     "output_type": "execute_result"
    }
   ],
   "source": [
    "4**3"
   ]
  },
  {
   "cell_type": "markdown",
   "id": "ebf2c2f9",
   "metadata": {},
   "source": [
    "# Variables in python"
   ]
  },
  {
   "cell_type": "code",
   "execution_count": 10,
   "id": "d6e5b25b",
   "metadata": {},
   "outputs": [],
   "source": [
    "x = 15"
   ]
  },
  {
   "cell_type": "code",
   "execution_count": 11,
   "id": "4a190c44",
   "metadata": {},
   "outputs": [
    {
     "data": {
      "text/plain": [
       "1827032492784"
      ]
     },
     "execution_count": 11,
     "metadata": {},
     "output_type": "execute_result"
    }
   ],
   "source": [
    "id(x) #location"
   ]
  },
  {
   "cell_type": "code",
   "execution_count": 15,
   "id": "b3edd9f9",
   "metadata": {},
   "outputs": [],
   "source": [
    "x = 15\n",
    "y = 15"
   ]
  },
  {
   "cell_type": "code",
   "execution_count": 16,
   "id": "ed2f8917",
   "metadata": {},
   "outputs": [
    {
     "data": {
      "text/plain": [
       "1827032492784"
      ]
     },
     "execution_count": 16,
     "metadata": {},
     "output_type": "execute_result"
    }
   ],
   "source": [
    "id(y)"
   ]
  },
  {
   "cell_type": "code",
   "execution_count": 17,
   "id": "15637c01",
   "metadata": {},
   "outputs": [
    {
     "data": {
      "text/plain": [
       "1827032492784"
      ]
     },
     "execution_count": 17,
     "metadata": {},
     "output_type": "execute_result"
    }
   ],
   "source": [
    "id(x)"
   ]
  },
  {
   "cell_type": "code",
   "execution_count": 20,
   "id": "65354d3a",
   "metadata": {},
   "outputs": [],
   "source": [
    "v1= 10\n",
    "_12 = 5\n",
    "v_ = 52\n",
    "_ = 15"
   ]
  },
  {
   "cell_type": "code",
   "execution_count": 22,
   "id": "10bb3e79",
   "metadata": {},
   "outputs": [],
   "source": [
    "v_ = 10.25"
   ]
  },
  {
   "cell_type": "code",
   "execution_count": 23,
   "id": "9edc6c41",
   "metadata": {},
   "outputs": [],
   "source": [
    "sam = 10"
   ]
  },
  {
   "cell_type": "code",
   "execution_count": 29,
   "id": "55f2cce6",
   "metadata": {},
   "outputs": [],
   "source": [
    "x = 10\n",
    "y = 20"
   ]
  },
  {
   "cell_type": "code",
   "execution_count": 30,
   "id": "a21be84f",
   "metadata": {},
   "outputs": [],
   "source": [
    "z = x\n",
    "x = y\n",
    "y = z"
   ]
  },
  {
   "cell_type": "code",
   "execution_count": 34,
   "id": "486cf414",
   "metadata": {},
   "outputs": [
    {
     "data": {
      "text/plain": [
       "(10, 20)"
      ]
     },
     "execution_count": 34,
     "metadata": {},
     "output_type": "execute_result"
    }
   ],
   "source": [
    "y,x"
   ]
  },
  {
   "cell_type": "code",
   "execution_count": 35,
   "id": "9aa037a9",
   "metadata": {},
   "outputs": [],
   "source": [
    "x,y= y,x"
   ]
  },
  {
   "cell_type": "code",
   "execution_count": 36,
   "id": "e81de764",
   "metadata": {},
   "outputs": [
    {
     "data": {
      "text/plain": [
       "(10, 20)"
      ]
     },
     "execution_count": 36,
     "metadata": {},
     "output_type": "execute_result"
    }
   ],
   "source": [
    "x,y"
   ]
  },
  {
   "cell_type": "code",
   "execution_count": 37,
   "id": "310d4ac9",
   "metadata": {},
   "outputs": [],
   "source": [
    "x = 10\n",
    "y= 15\n",
    "x,y,x = x*y,x-y,x+100"
   ]
  },
  {
   "cell_type": "code",
   "execution_count": 38,
   "id": "9cafdb98",
   "metadata": {},
   "outputs": [
    {
     "data": {
      "text/plain": [
       "(110, -5)"
      ]
     },
     "execution_count": 38,
     "metadata": {},
     "output_type": "execute_result"
    }
   ],
   "source": [
    "x,y"
   ]
  },
  {
   "cell_type": "code",
   "execution_count": 40,
   "id": "62cffcd5",
   "metadata": {},
   "outputs": [],
   "source": [
    "x,y,z = 10,12,2 # no of variables should match num of values"
   ]
  },
  {
   "cell_type": "markdown",
   "id": "b59e2564",
   "metadata": {},
   "source": [
    "# Datatypes in python"
   ]
  },
  {
   "cell_type": "code",
   "execution_count": 41,
   "id": "303516fb",
   "metadata": {},
   "outputs": [],
   "source": [
    "#int\n",
    "# float\n",
    "#str\n",
    "#list\n",
    "#tupple\n",
    "#dict\n",
    "#set\n",
    "#bool\n",
    "#complex"
   ]
  },
  {
   "cell_type": "markdown",
   "id": "1f6a05e3",
   "metadata": {},
   "source": [
    "# int and float"
   ]
  },
  {
   "cell_type": "code",
   "execution_count": 42,
   "id": "dc7f8b9b",
   "metadata": {},
   "outputs": [],
   "source": [
    "x = 10"
   ]
  },
  {
   "cell_type": "code",
   "execution_count": 43,
   "id": "eabe374a",
   "metadata": {},
   "outputs": [
    {
     "data": {
      "text/plain": [
       "int"
      ]
     },
     "execution_count": 43,
     "metadata": {},
     "output_type": "execute_result"
    }
   ],
   "source": [
    "type(x)"
   ]
  },
  {
   "cell_type": "code",
   "execution_count": 44,
   "id": "d55ad913",
   "metadata": {},
   "outputs": [],
   "source": [
    "y = 10.2"
   ]
  },
  {
   "cell_type": "code",
   "execution_count": 45,
   "id": "28af3526",
   "metadata": {},
   "outputs": [
    {
     "data": {
      "text/plain": [
       "float"
      ]
     },
     "execution_count": 45,
     "metadata": {},
     "output_type": "execute_result"
    }
   ],
   "source": [
    "type(y)"
   ]
  },
  {
   "cell_type": "code",
   "execution_count": 46,
   "id": "4342680b",
   "metadata": {},
   "outputs": [
    {
     "data": {
      "text/plain": [
       "False"
      ]
     },
     "execution_count": 46,
     "metadata": {},
     "output_type": "execute_result"
    }
   ],
   "source": [
    "x == y"
   ]
  },
  {
   "cell_type": "code",
   "execution_count": 47,
   "id": "5f10df7c",
   "metadata": {},
   "outputs": [],
   "source": [
    "z = 10.0"
   ]
  },
  {
   "cell_type": "code",
   "execution_count": 48,
   "id": "33af45e6",
   "metadata": {},
   "outputs": [
    {
     "data": {
      "text/plain": [
       "True"
      ]
     },
     "execution_count": 48,
     "metadata": {},
     "output_type": "execute_result"
    }
   ],
   "source": [
    "z == x"
   ]
  },
  {
   "cell_type": "code",
   "execution_count": 49,
   "id": "9fc4f1c2",
   "metadata": {},
   "outputs": [],
   "source": [
    "x = 10\n",
    "x = float(x)"
   ]
  },
  {
   "cell_type": "code",
   "execution_count": 50,
   "id": "6208319d",
   "metadata": {},
   "outputs": [
    {
     "data": {
      "text/plain": [
       "10.0"
      ]
     },
     "execution_count": 50,
     "metadata": {},
     "output_type": "execute_result"
    }
   ],
   "source": [
    "x"
   ]
  },
  {
   "cell_type": "code",
   "execution_count": 51,
   "id": "04e2a6ab",
   "metadata": {},
   "outputs": [],
   "source": [
    "x = int(x)"
   ]
  },
  {
   "cell_type": "code",
   "execution_count": 52,
   "id": "4dcfcf63",
   "metadata": {},
   "outputs": [
    {
     "data": {
      "text/plain": [
       "10"
      ]
     },
     "execution_count": 52,
     "metadata": {},
     "output_type": "execute_result"
    }
   ],
   "source": [
    "x"
   ]
  },
  {
   "cell_type": "markdown",
   "id": "ea5f370d",
   "metadata": {},
   "source": [
    "# String"
   ]
  },
  {
   "cell_type": "code",
   "execution_count": 53,
   "id": "31f9a551",
   "metadata": {},
   "outputs": [],
   "source": [
    "# its a collection of character"
   ]
  },
  {
   "cell_type": "code",
   "execution_count": 56,
   "id": "32cbd827",
   "metadata": {},
   "outputs": [],
   "source": [
    "x = 'python'\n",
    "y = \"python\"\n",
    "z ='''python'''\n"
   ]
  },
  {
   "cell_type": "code",
   "execution_count": 57,
   "id": "dfad2860",
   "metadata": {},
   "outputs": [
    {
     "data": {
      "text/plain": [
       "True"
      ]
     },
     "execution_count": 57,
     "metadata": {},
     "output_type": "execute_result"
    }
   ],
   "source": [
    "x == y\n",
    "x == z"
   ]
  },
  {
   "cell_type": "code",
   "execution_count": 58,
   "id": "b78695fc",
   "metadata": {},
   "outputs": [],
   "source": [
    "a = \"python class 24634501edk987633431!@#\""
   ]
  },
  {
   "cell_type": "code",
   "execution_count": 59,
   "id": "39934714",
   "metadata": {},
   "outputs": [],
   "source": [
    "a = \"python class\""
   ]
  },
  {
   "cell_type": "code",
   "execution_count": 60,
   "id": "7674a909",
   "metadata": {},
   "outputs": [
    {
     "data": {
      "text/plain": [
       "'PYTHON CLASS'"
      ]
     },
     "execution_count": 60,
     "metadata": {},
     "output_type": "execute_result"
    }
   ],
   "source": [
    "a.upper()"
   ]
  },
  {
   "cell_type": "code",
   "execution_count": 61,
   "id": "a35ba3c1",
   "metadata": {},
   "outputs": [
    {
     "data": {
      "text/plain": [
       "'python class'"
      ]
     },
     "execution_count": 61,
     "metadata": {},
     "output_type": "execute_result"
    }
   ],
   "source": [
    "a.lower()"
   ]
  },
  {
   "cell_type": "code",
   "execution_count": 65,
   "id": "6d6dbd20",
   "metadata": {},
   "outputs": [
    {
     "data": {
      "text/plain": [
       "'Python class'"
      ]
     },
     "execution_count": 65,
     "metadata": {},
     "output_type": "execute_result"
    }
   ],
   "source": [
    "a.capitalize()"
   ]
  },
  {
   "cell_type": "code",
   "execution_count": 67,
   "id": "3b4592c1",
   "metadata": {},
   "outputs": [
    {
     "data": {
      "text/plain": [
       "'p'"
      ]
     },
     "execution_count": 67,
     "metadata": {},
     "output_type": "execute_result"
    }
   ],
   "source": [
    "a[0]"
   ]
  },
  {
   "cell_type": "code",
   "execution_count": 68,
   "id": "5e9752c6",
   "metadata": {},
   "outputs": [
    {
     "data": {
      "text/plain": [
       "'python class'"
      ]
     },
     "execution_count": 68,
     "metadata": {},
     "output_type": "execute_result"
    }
   ],
   "source": [
    "a[:]"
   ]
  },
  {
   "cell_type": "code",
   "execution_count": 69,
   "id": "cc4a12f1",
   "metadata": {},
   "outputs": [
    {
     "data": {
      "text/plain": [
       "'python'"
      ]
     },
     "execution_count": 69,
     "metadata": {},
     "output_type": "execute_result"
    }
   ],
   "source": [
    "a[:6]"
   ]
  },
  {
   "cell_type": "code",
   "execution_count": 70,
   "id": "aec5abbc",
   "metadata": {},
   "outputs": [
    {
     "data": {
      "text/plain": [
       "7"
      ]
     },
     "execution_count": 70,
     "metadata": {},
     "output_type": "execute_result"
    }
   ],
   "source": [
    "a.find(\"c\")"
   ]
  },
  {
   "cell_type": "code",
   "execution_count": 72,
   "id": "e7f5746a",
   "metadata": {},
   "outputs": [
    {
     "data": {
      "text/plain": [
       "-1"
      ]
     },
     "execution_count": 72,
     "metadata": {},
     "output_type": "execute_result"
    }
   ],
   "source": [
    "a.find(\"cs\")"
   ]
  },
  {
   "cell_type": "code",
   "execution_count": 74,
   "id": "7e35e103",
   "metadata": {},
   "outputs": [
    {
     "data": {
      "text/plain": [
       "5"
      ]
     },
     "execution_count": 74,
     "metadata": {},
     "output_type": "execute_result"
    }
   ],
   "source": [
    "a.index(\"n\")"
   ]
  },
  {
   "cell_type": "code",
   "execution_count": 75,
   "id": "d6dfd752",
   "metadata": {},
   "outputs": [
    {
     "data": {
      "text/plain": [
       "10"
      ]
     },
     "execution_count": 75,
     "metadata": {},
     "output_type": "execute_result"
    }
   ],
   "source": [
    "a.find(\"s\")"
   ]
  },
  {
   "cell_type": "code",
   "execution_count": 76,
   "id": "137199ca",
   "metadata": {},
   "outputs": [
    {
     "data": {
      "text/plain": [
       "10"
      ]
     },
     "execution_count": 76,
     "metadata": {},
     "output_type": "execute_result"
    }
   ],
   "source": [
    "a.index(\"s\")"
   ]
  },
  {
   "cell_type": "code",
   "execution_count": 77,
   "id": "b7d79e03",
   "metadata": {},
   "outputs": [],
   "source": [
    "a = \"PythOn\""
   ]
  },
  {
   "cell_type": "code",
   "execution_count": 80,
   "id": "13458a9e",
   "metadata": {},
   "outputs": [
    {
     "data": {
      "text/plain": [
       "-1"
      ]
     },
     "execution_count": 80,
     "metadata": {},
     "output_type": "execute_result"
    }
   ],
   "source": [
    "a.find(\"o\")"
   ]
  },
  {
   "cell_type": "code",
   "execution_count": 81,
   "id": "995d9b44",
   "metadata": {},
   "outputs": [
    {
     "data": {
      "text/plain": [
       "4"
      ]
     },
     "execution_count": 81,
     "metadata": {},
     "output_type": "execute_result"
    }
   ],
   "source": [
    "a.find(\"O\")"
   ]
  },
  {
   "cell_type": "code",
   "execution_count": 85,
   "id": "1fdc13d2",
   "metadata": {},
   "outputs": [
    {
     "data": {
      "text/plain": [
       "1"
      ]
     },
     "execution_count": 85,
     "metadata": {},
     "output_type": "execute_result"
    }
   ],
   "source": [
    "a.count(\"P\")"
   ]
  },
  {
   "cell_type": "code",
   "execution_count": 86,
   "id": "f7549f47",
   "metadata": {},
   "outputs": [
    {
     "data": {
      "text/plain": [
       "'PythOn'"
      ]
     },
     "execution_count": 86,
     "metadata": {},
     "output_type": "execute_result"
    }
   ],
   "source": [
    "a"
   ]
  },
  {
   "cell_type": "code",
   "execution_count": 87,
   "id": "d1f5486f",
   "metadata": {},
   "outputs": [
    {
     "data": {
      "text/plain": [
       "'h'"
      ]
     },
     "execution_count": 87,
     "metadata": {},
     "output_type": "execute_result"
    }
   ],
   "source": [
    "a[3]"
   ]
  },
  {
   "cell_type": "code",
   "execution_count": 88,
   "id": "039cd0e6",
   "metadata": {},
   "outputs": [
    {
     "data": {
      "text/plain": [
       "'hO'"
      ]
     },
     "execution_count": 88,
     "metadata": {},
     "output_type": "execute_result"
    }
   ],
   "source": [
    "a[3:5]"
   ]
  },
  {
   "cell_type": "code",
   "execution_count": 89,
   "id": "2b1ef7e7",
   "metadata": {},
   "outputs": [
    {
     "data": {
      "text/plain": [
       "'hOn'"
      ]
     },
     "execution_count": 89,
     "metadata": {},
     "output_type": "execute_result"
    }
   ],
   "source": [
    "a[3:7]"
   ]
  },
  {
   "cell_type": "code",
   "execution_count": 90,
   "id": "d01f638c",
   "metadata": {},
   "outputs": [
    {
     "data": {
      "text/plain": [
       "'PythOn'"
      ]
     },
     "execution_count": 90,
     "metadata": {},
     "output_type": "execute_result"
    }
   ],
   "source": [
    "a[:7]"
   ]
  },
  {
   "cell_type": "code",
   "execution_count": 91,
   "id": "761522e5",
   "metadata": {},
   "outputs": [
    {
     "data": {
      "text/plain": [
       "False"
      ]
     },
     "execution_count": 91,
     "metadata": {},
     "output_type": "execute_result"
    }
   ],
   "source": [
    "a.isupper()"
   ]
  },
  {
   "cell_type": "code",
   "execution_count": 92,
   "id": "6b124691",
   "metadata": {},
   "outputs": [
    {
     "data": {
      "text/plain": [
       "False"
      ]
     },
     "execution_count": 92,
     "metadata": {},
     "output_type": "execute_result"
    }
   ],
   "source": [
    "a.islower()"
   ]
  },
  {
   "cell_type": "code",
   "execution_count": 93,
   "id": "9bcbaa2c",
   "metadata": {},
   "outputs": [
    {
     "data": {
      "text/plain": [
       "True"
      ]
     },
     "execution_count": 93,
     "metadata": {},
     "output_type": "execute_result"
    }
   ],
   "source": [
    "a.isalpha()"
   ]
  },
  {
   "cell_type": "code",
   "execution_count": 94,
   "id": "66b680f2",
   "metadata": {},
   "outputs": [
    {
     "data": {
      "text/plain": [
       "True"
      ]
     },
     "execution_count": 94,
     "metadata": {},
     "output_type": "execute_result"
    }
   ],
   "source": [
    "a.isalnum()"
   ]
  },
  {
   "cell_type": "code",
   "execution_count": 96,
   "id": "05af8aed",
   "metadata": {},
   "outputs": [
    {
     "data": {
      "text/plain": [
       "False"
      ]
     },
     "execution_count": 96,
     "metadata": {},
     "output_type": "execute_result"
    }
   ],
   "source": [
    "a.isdigit()"
   ]
  },
  {
   "cell_type": "code",
   "execution_count": 97,
   "id": "b564d951",
   "metadata": {},
   "outputs": [],
   "source": [
    "a = \"kython\""
   ]
  },
  {
   "cell_type": "code",
   "execution_count": 98,
   "id": "0bee12d4",
   "metadata": {},
   "outputs": [
    {
     "ename": "TypeError",
     "evalue": "'str' object does not support item assignment",
     "output_type": "error",
     "traceback": [
      "\u001b[1;31m---------------------------------------------------------------------------\u001b[0m",
      "\u001b[1;31mTypeError\u001b[0m                                 Traceback (most recent call last)",
      "\u001b[1;32m~\\AppData\\Local\\Temp\\ipykernel_13220\\2221136230.py\u001b[0m in \u001b[0;36m<module>\u001b[1;34m\u001b[0m\n\u001b[1;32m----> 1\u001b[1;33m \u001b[0ma\u001b[0m\u001b[1;33m[\u001b[0m\u001b[1;36m0\u001b[0m\u001b[1;33m]\u001b[0m \u001b[1;33m=\u001b[0m \u001b[1;34m\"p\"\u001b[0m\u001b[1;33m\u001b[0m\u001b[1;33m\u001b[0m\u001b[0m\n\u001b[0m",
      "\u001b[1;31mTypeError\u001b[0m: 'str' object does not support item assignment"
     ]
    }
   ],
   "source": [
    "a[0] = \"p\""
   ]
  },
  {
   "cell_type": "code",
   "execution_count": 99,
   "id": "35643259",
   "metadata": {},
   "outputs": [],
   "source": [
    "a = \"python\""
   ]
  },
  {
   "cell_type": "code",
   "execution_count": 100,
   "id": "68d057dc",
   "metadata": {},
   "outputs": [],
   "source": [
    "a = 16\n",
    "a = str(a)"
   ]
  },
  {
   "cell_type": "code",
   "execution_count": 101,
   "id": "13033686",
   "metadata": {},
   "outputs": [
    {
     "data": {
      "text/plain": [
       "'16'"
      ]
     },
     "execution_count": 101,
     "metadata": {},
     "output_type": "execute_result"
    }
   ],
   "source": [
    "a"
   ]
  },
  {
   "cell_type": "code",
   "execution_count": 103,
   "id": "eaad58e5",
   "metadata": {},
   "outputs": [],
   "source": [
    "a = int(a)"
   ]
  },
  {
   "cell_type": "code",
   "execution_count": 104,
   "id": "334d372d",
   "metadata": {},
   "outputs": [
    {
     "data": {
      "text/plain": [
       "134"
      ]
     },
     "execution_count": 104,
     "metadata": {},
     "output_type": "execute_result"
    }
   ],
   "source": [
    "int(\"134\")"
   ]
  },
  {
   "cell_type": "code",
   "execution_count": 105,
   "id": "b9faacd1",
   "metadata": {},
   "outputs": [
    {
     "ename": "ValueError",
     "evalue": "invalid literal for int() with base 10: 'asd'",
     "output_type": "error",
     "traceback": [
      "\u001b[1;31m---------------------------------------------------------------------------\u001b[0m",
      "\u001b[1;31mValueError\u001b[0m                                Traceback (most recent call last)",
      "\u001b[1;32m~\\AppData\\Local\\Temp\\ipykernel_13220\\2602370654.py\u001b[0m in \u001b[0;36m<module>\u001b[1;34m\u001b[0m\n\u001b[1;32m----> 1\u001b[1;33m \u001b[0mint\u001b[0m\u001b[1;33m(\u001b[0m\u001b[1;34m\"asd\"\u001b[0m\u001b[1;33m)\u001b[0m\u001b[1;33m\u001b[0m\u001b[1;33m\u001b[0m\u001b[0m\n\u001b[0m",
      "\u001b[1;31mValueError\u001b[0m: invalid literal for int() with base 10: 'asd'"
     ]
    }
   ],
   "source": [
    "int(\"asd\")"
   ]
  },
  {
   "cell_type": "code",
   "execution_count": 106,
   "id": "2794e22c",
   "metadata": {},
   "outputs": [],
   "source": [
    "a = \"python\""
   ]
  },
  {
   "cell_type": "code",
   "execution_count": 107,
   "id": "d7af5d53",
   "metadata": {},
   "outputs": [
    {
     "data": {
      "text/plain": [
       "'pythonpython'"
      ]
     },
     "execution_count": 107,
     "metadata": {},
     "output_type": "execute_result"
    }
   ],
   "source": [
    "a+a"
   ]
  },
  {
   "cell_type": "code",
   "execution_count": 108,
   "id": "a94c75f7",
   "metadata": {},
   "outputs": [
    {
     "data": {
      "text/plain": [
       "'pythonpythonpython'"
      ]
     },
     "execution_count": 108,
     "metadata": {},
     "output_type": "execute_result"
    }
   ],
   "source": [
    "a*3"
   ]
  },
  {
   "cell_type": "code",
   "execution_count": 109,
   "id": "11dd5537",
   "metadata": {},
   "outputs": [
    {
     "data": {
      "text/plain": [
       "'pythonpythonpython'"
      ]
     },
     "execution_count": 109,
     "metadata": {},
     "output_type": "execute_result"
    }
   ],
   "source": [
    "a+a+a"
   ]
  },
  {
   "cell_type": "code",
   "execution_count": 110,
   "id": "7da7a0c1",
   "metadata": {},
   "outputs": [
    {
     "ename": "TypeError",
     "evalue": "can't multiply sequence by non-int of type 'float'",
     "output_type": "error",
     "traceback": [
      "\u001b[1;31m---------------------------------------------------------------------------\u001b[0m",
      "\u001b[1;31mTypeError\u001b[0m                                 Traceback (most recent call last)",
      "\u001b[1;32m~\\AppData\\Local\\Temp\\ipykernel_13220\\4109796316.py\u001b[0m in \u001b[0;36m<module>\u001b[1;34m\u001b[0m\n\u001b[1;32m----> 1\u001b[1;33m \u001b[0ma\u001b[0m\u001b[1;33m*\u001b[0m\u001b[1;36m3.4\u001b[0m\u001b[1;33m\u001b[0m\u001b[1;33m\u001b[0m\u001b[0m\n\u001b[0m",
      "\u001b[1;31mTypeError\u001b[0m: can't multiply sequence by non-int of type 'float'"
     ]
    }
   ],
   "source": [
    "a*3.4"
   ]
  },
  {
   "cell_type": "code",
   "execution_count": 111,
   "id": "7d201017",
   "metadata": {},
   "outputs": [
    {
     "ename": "TypeError",
     "evalue": "unsupported operand type(s) for -: 'str' and 'str'",
     "output_type": "error",
     "traceback": [
      "\u001b[1;31m---------------------------------------------------------------------------\u001b[0m",
      "\u001b[1;31mTypeError\u001b[0m                                 Traceback (most recent call last)",
      "\u001b[1;32m~\\AppData\\Local\\Temp\\ipykernel_13220\\3653761161.py\u001b[0m in \u001b[0;36m<module>\u001b[1;34m\u001b[0m\n\u001b[1;32m----> 1\u001b[1;33m \u001b[0ma\u001b[0m\u001b[1;33m+\u001b[0m\u001b[0ma\u001b[0m\u001b[1;33m-\u001b[0m\u001b[0ma\u001b[0m\u001b[1;33m\u001b[0m\u001b[1;33m\u001b[0m\u001b[0m\n\u001b[0m",
      "\u001b[1;31mTypeError\u001b[0m: unsupported operand type(s) for -: 'str' and 'str'"
     ]
    }
   ],
   "source": [
    "a+a-a"
   ]
  },
  {
   "cell_type": "markdown",
   "id": "0b043160",
   "metadata": {},
   "source": [
    "# List"
   ]
  },
  {
   "cell_type": "code",
   "execution_count": 112,
   "id": "1ffe646a",
   "metadata": {},
   "outputs": [],
   "source": [
    "# collection of objects"
   ]
  },
  {
   "cell_type": "code",
   "execution_count": 114,
   "id": "8386f6d9",
   "metadata": {},
   "outputs": [],
   "source": [
    "a = [1,2.1,\"Sdd\",True,[2.2,5]]"
   ]
  },
  {
   "cell_type": "code",
   "execution_count": 115,
   "id": "2c273f20",
   "metadata": {},
   "outputs": [
    {
     "data": {
      "text/plain": [
       "5"
      ]
     },
     "execution_count": 115,
     "metadata": {},
     "output_type": "execute_result"
    }
   ],
   "source": [
    "len(a)"
   ]
  },
  {
   "cell_type": "code",
   "execution_count": 116,
   "id": "a0412b9d",
   "metadata": {},
   "outputs": [],
   "source": [
    "a = [1,3,6,7]"
   ]
  },
  {
   "cell_type": "code",
   "execution_count": 117,
   "id": "c1b8092c",
   "metadata": {},
   "outputs": [
    {
     "data": {
      "text/plain": [
       "[1, 3, 6, 7, 1, 3, 6, 7]"
      ]
     },
     "execution_count": 117,
     "metadata": {},
     "output_type": "execute_result"
    }
   ],
   "source": [
    "a+a #list concatination"
   ]
  },
  {
   "cell_type": "code",
   "execution_count": 118,
   "id": "b6913df0",
   "metadata": {},
   "outputs": [
    {
     "data": {
      "text/plain": [
       "[1, 3, 6, 7, 1, 3, 6, 7]"
      ]
     },
     "execution_count": 118,
     "metadata": {},
     "output_type": "execute_result"
    }
   ],
   "source": [
    "a *2"
   ]
  },
  {
   "cell_type": "code",
   "execution_count": 119,
   "id": "5ac59bcc",
   "metadata": {},
   "outputs": [
    {
     "ename": "TypeError",
     "evalue": "can't multiply sequence by non-int of type 'float'",
     "output_type": "error",
     "traceback": [
      "\u001b[1;31m---------------------------------------------------------------------------\u001b[0m",
      "\u001b[1;31mTypeError\u001b[0m                                 Traceback (most recent call last)",
      "\u001b[1;32m~\\AppData\\Local\\Temp\\ipykernel_13220\\1732636992.py\u001b[0m in \u001b[0;36m<module>\u001b[1;34m\u001b[0m\n\u001b[1;32m----> 1\u001b[1;33m \u001b[0ma\u001b[0m\u001b[1;33m*\u001b[0m\u001b[1;36m3.6\u001b[0m\u001b[1;33m\u001b[0m\u001b[1;33m\u001b[0m\u001b[0m\n\u001b[0m",
      "\u001b[1;31mTypeError\u001b[0m: can't multiply sequence by non-int of type 'float'"
     ]
    }
   ],
   "source": [
    "a*3.6"
   ]
  },
  {
   "cell_type": "code",
   "execution_count": 120,
   "id": "73611231",
   "metadata": {},
   "outputs": [
    {
     "data": {
      "text/plain": [
       "3"
      ]
     },
     "execution_count": 120,
     "metadata": {},
     "output_type": "execute_result"
    }
   ],
   "source": [
    "a.index(7)"
   ]
  },
  {
   "cell_type": "code",
   "execution_count": 121,
   "id": "9da2c82e",
   "metadata": {},
   "outputs": [
    {
     "data": {
      "text/plain": [
       "0"
      ]
     },
     "execution_count": 121,
     "metadata": {},
     "output_type": "execute_result"
    }
   ],
   "source": [
    "a.count(121)"
   ]
  },
  {
   "cell_type": "code",
   "execution_count": 122,
   "id": "58214532",
   "metadata": {},
   "outputs": [
    {
     "data": {
      "text/plain": [
       "[6, 7]"
      ]
     },
     "execution_count": 122,
     "metadata": {},
     "output_type": "execute_result"
    }
   ],
   "source": [
    "a[2:4]"
   ]
  },
  {
   "cell_type": "code",
   "execution_count": 123,
   "id": "23c7f19d",
   "metadata": {},
   "outputs": [
    {
     "data": {
      "text/plain": [
       "[6, 7]"
      ]
     },
     "execution_count": 123,
     "metadata": {},
     "output_type": "execute_result"
    }
   ],
   "source": [
    "a[2:100]"
   ]
  },
  {
   "cell_type": "code",
   "execution_count": 126,
   "id": "b1f41938",
   "metadata": {},
   "outputs": [],
   "source": [
    "a[0] = 9"
   ]
  },
  {
   "cell_type": "code",
   "execution_count": 127,
   "id": "57d0ca2d",
   "metadata": {},
   "outputs": [
    {
     "data": {
      "text/plain": [
       "[9, 3, 6, 7]"
      ]
     },
     "execution_count": 127,
     "metadata": {},
     "output_type": "execute_result"
    }
   ],
   "source": [
    "a"
   ]
  },
  {
   "cell_type": "code",
   "execution_count": 128,
   "id": "babec9ad",
   "metadata": {},
   "outputs": [],
   "source": [
    "#adding a new element"
   ]
  },
  {
   "cell_type": "code",
   "execution_count": 129,
   "id": "b81cf1f1",
   "metadata": {},
   "outputs": [],
   "source": [
    "a.append(10)"
   ]
  },
  {
   "cell_type": "code",
   "execution_count": 130,
   "id": "ad987780",
   "metadata": {},
   "outputs": [
    {
     "data": {
      "text/plain": [
       "[9, 3, 6, 7, 10]"
      ]
     },
     "execution_count": 130,
     "metadata": {},
     "output_type": "execute_result"
    }
   ],
   "source": [
    "a"
   ]
  },
  {
   "cell_type": "code",
   "execution_count": 131,
   "id": "e8acff63",
   "metadata": {},
   "outputs": [],
   "source": [
    "a.insert(1,200)"
   ]
  },
  {
   "cell_type": "code",
   "execution_count": 132,
   "id": "fb00f47d",
   "metadata": {},
   "outputs": [
    {
     "data": {
      "text/plain": [
       "[9, 200, 3, 6, 7, 10]"
      ]
     },
     "execution_count": 132,
     "metadata": {},
     "output_type": "execute_result"
    }
   ],
   "source": [
    "a"
   ]
  },
  {
   "cell_type": "code",
   "execution_count": 133,
   "id": "c4847a1d",
   "metadata": {},
   "outputs": [],
   "source": [
    "# deleting a element"
   ]
  },
  {
   "cell_type": "code",
   "execution_count": 135,
   "id": "f9d0bd58",
   "metadata": {},
   "outputs": [],
   "source": [
    "a.remove(200)"
   ]
  },
  {
   "cell_type": "code",
   "execution_count": 136,
   "id": "c5b3c8e4",
   "metadata": {},
   "outputs": [
    {
     "data": {
      "text/plain": [
       "[9, 3, 6, 7, 10]"
      ]
     },
     "execution_count": 136,
     "metadata": {},
     "output_type": "execute_result"
    }
   ],
   "source": [
    "a"
   ]
  },
  {
   "cell_type": "code",
   "execution_count": 137,
   "id": "444a6c4d",
   "metadata": {},
   "outputs": [
    {
     "data": {
      "text/plain": [
       "10"
      ]
     },
     "execution_count": 137,
     "metadata": {},
     "output_type": "execute_result"
    }
   ],
   "source": [
    "a.pop()"
   ]
  },
  {
   "cell_type": "code",
   "execution_count": 138,
   "id": "631d7bfc",
   "metadata": {},
   "outputs": [
    {
     "data": {
      "text/plain": [
       "[9, 3, 6, 7]"
      ]
     },
     "execution_count": 138,
     "metadata": {},
     "output_type": "execute_result"
    }
   ],
   "source": [
    "a"
   ]
  },
  {
   "cell_type": "code",
   "execution_count": 139,
   "id": "a3e14b59",
   "metadata": {},
   "outputs": [
    {
     "data": {
      "text/plain": [
       "6"
      ]
     },
     "execution_count": 139,
     "metadata": {},
     "output_type": "execute_result"
    }
   ],
   "source": [
    "a.pop(2)"
   ]
  },
  {
   "cell_type": "code",
   "execution_count": 140,
   "id": "21172f9d",
   "metadata": {},
   "outputs": [
    {
     "data": {
      "text/plain": [
       "[9, 3, 7]"
      ]
     },
     "execution_count": 140,
     "metadata": {},
     "output_type": "execute_result"
    }
   ],
   "source": [
    "a"
   ]
  },
  {
   "cell_type": "code",
   "execution_count": 141,
   "id": "c5f768d9",
   "metadata": {},
   "outputs": [],
   "source": [
    "del(a)"
   ]
  },
  {
   "cell_type": "code",
   "execution_count": 142,
   "id": "9eb34442",
   "metadata": {},
   "outputs": [
    {
     "ename": "NameError",
     "evalue": "name 'a' is not defined",
     "output_type": "error",
     "traceback": [
      "\u001b[1;31m---------------------------------------------------------------------------\u001b[0m",
      "\u001b[1;31mNameError\u001b[0m                                 Traceback (most recent call last)",
      "\u001b[1;32m~\\AppData\\Local\\Temp\\ipykernel_13220\\2167009006.py\u001b[0m in \u001b[0;36m<module>\u001b[1;34m\u001b[0m\n\u001b[1;32m----> 1\u001b[1;33m \u001b[0ma\u001b[0m\u001b[1;33m\u001b[0m\u001b[1;33m\u001b[0m\u001b[0m\n\u001b[0m",
      "\u001b[1;31mNameError\u001b[0m: name 'a' is not defined"
     ]
    }
   ],
   "source": [
    "a"
   ]
  },
  {
   "cell_type": "code",
   "execution_count": 143,
   "id": "56bd1935",
   "metadata": {},
   "outputs": [],
   "source": [
    "a = \"python\""
   ]
  },
  {
   "cell_type": "code",
   "execution_count": 154,
   "id": "5a21567d",
   "metadata": {},
   "outputs": [],
   "source": [
    "a = list(a)"
   ]
  },
  {
   "cell_type": "code",
   "execution_count": 155,
   "id": "d3236b5d",
   "metadata": {},
   "outputs": [
    {
     "data": {
      "text/plain": [
       "['p', 'y', 't', 'h', 'o', 'n']"
      ]
     },
     "execution_count": 155,
     "metadata": {},
     "output_type": "execute_result"
    }
   ],
   "source": [
    "a"
   ]
  },
  {
   "cell_type": "code",
   "execution_count": 147,
   "id": "cce118aa",
   "metadata": {},
   "outputs": [
    {
     "data": {
      "text/plain": [
       "'python'"
      ]
     },
     "execution_count": 147,
     "metadata": {},
     "output_type": "execute_result"
    }
   ],
   "source": [
    "\"\".join(a)"
   ]
  },
  {
   "cell_type": "code",
   "execution_count": 159,
   "id": "7579ee91",
   "metadata": {},
   "outputs": [
    {
     "data": {
      "text/plain": [
       "'p_y_t_h_o_n'"
      ]
     },
     "execution_count": 159,
     "metadata": {},
     "output_type": "execute_result"
    }
   ],
   "source": [
    "\"_\".join(a)"
   ]
  },
  {
   "cell_type": "markdown",
   "id": "01b57b6e",
   "metadata": {},
   "source": [
    "#  collection of objects"
   ]
  },
  {
   "cell_type": "code",
   "execution_count": 160,
   "id": "73ffc2cf",
   "metadata": {},
   "outputs": [],
   "source": [
    "a = (1,2,1.2,\"gfhnf\",[1,2.2,3],True)"
   ]
  },
  {
   "cell_type": "code",
   "execution_count": 161,
   "id": "cab62b43",
   "metadata": {},
   "outputs": [
    {
     "data": {
      "text/plain": [
       "2"
      ]
     },
     "execution_count": 161,
     "metadata": {},
     "output_type": "execute_result"
    }
   ],
   "source": [
    "a.count(1)"
   ]
  },
  {
   "cell_type": "code",
   "execution_count": 162,
   "id": "e470d774",
   "metadata": {},
   "outputs": [
    {
     "data": {
      "text/plain": [
       "5"
      ]
     },
     "execution_count": 162,
     "metadata": {},
     "output_type": "execute_result"
    }
   ],
   "source": [
    "4 +True - False"
   ]
  },
  {
   "cell_type": "code",
   "execution_count": 163,
   "id": "f129beb7",
   "metadata": {},
   "outputs": [
    {
     "data": {
      "text/plain": [
       "2"
      ]
     },
     "execution_count": 163,
     "metadata": {},
     "output_type": "execute_result"
    }
   ],
   "source": [
    "a.index(1.2)"
   ]
  },
  {
   "cell_type": "markdown",
   "id": "86c70718",
   "metadata": {},
   "source": [
    "# Set"
   ]
  },
  {
   "cell_type": "code",
   "execution_count": null,
   "id": "6ef0602a",
   "metadata": {},
   "outputs": [],
   "source": [
    "# its the colection of unique objects"
   ]
  },
  {
   "cell_type": "code",
   "execution_count": 164,
   "id": "30c08aa3",
   "metadata": {},
   "outputs": [],
   "source": [
    "a = {1,2,3,1}"
   ]
  },
  {
   "cell_type": "code",
   "execution_count": 165,
   "id": "8a5fc213",
   "metadata": {},
   "outputs": [
    {
     "data": {
      "text/plain": [
       "{1, 2, 3}"
      ]
     },
     "execution_count": 165,
     "metadata": {},
     "output_type": "execute_result"
    }
   ],
   "source": [
    "a"
   ]
  },
  {
   "cell_type": "code",
   "execution_count": 166,
   "id": "a6b6b5de",
   "metadata": {},
   "outputs": [],
   "source": [
    "b = {2,3,5}"
   ]
  },
  {
   "cell_type": "code",
   "execution_count": 167,
   "id": "57630d01",
   "metadata": {},
   "outputs": [
    {
     "data": {
      "text/plain": [
       "{2, 3}"
      ]
     },
     "execution_count": 167,
     "metadata": {},
     "output_type": "execute_result"
    }
   ],
   "source": [
    "a&b"
   ]
  },
  {
   "cell_type": "code",
   "execution_count": 168,
   "id": "84d1c35a",
   "metadata": {},
   "outputs": [
    {
     "data": {
      "text/plain": [
       "{1, 2, 3, 5}"
      ]
     },
     "execution_count": 168,
     "metadata": {},
     "output_type": "execute_result"
    }
   ],
   "source": [
    "a|b"
   ]
  },
  {
   "cell_type": "code",
   "execution_count": 169,
   "id": "ef8b49c9",
   "metadata": {},
   "outputs": [
    {
     "data": {
      "text/plain": [
       "{1, 2, 3, 5}"
      ]
     },
     "execution_count": 169,
     "metadata": {},
     "output_type": "execute_result"
    }
   ],
   "source": [
    "a.union(b)"
   ]
  },
  {
   "cell_type": "code",
   "execution_count": 170,
   "id": "a3842ed0",
   "metadata": {},
   "outputs": [
    {
     "data": {
      "text/plain": [
       "{2, 3}"
      ]
     },
     "execution_count": 170,
     "metadata": {},
     "output_type": "execute_result"
    }
   ],
   "source": [
    "a.intersection(b)"
   ]
  },
  {
   "cell_type": "code",
   "execution_count": null,
   "id": "c1630589",
   "metadata": {},
   "outputs": [],
   "source": []
  }
 ],
 "metadata": {
  "kernelspec": {
   "display_name": "Python 3 (ipykernel)",
   "language": "python",
   "name": "python3"
  },
  "language_info": {
   "codemirror_mode": {
    "name": "ipython",
    "version": 3
   },
   "file_extension": ".py",
   "mimetype": "text/x-python",
   "name": "python",
   "nbconvert_exporter": "python",
   "pygments_lexer": "ipython3",
   "version": "3.9.13"
  }
 },
 "nbformat": 4,
 "nbformat_minor": 5
}
