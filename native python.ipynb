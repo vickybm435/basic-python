{
 "cells": [
  {
   "cell_type": "markdown",
   "id": "67531466",
   "metadata": {},
   "source": [
    "# native python"
   ]
  },
  {
   "cell_type": "code",
   "execution_count": null,
   "id": "39f8e843",
   "metadata": {},
   "outputs": [],
   "source": [
    "#basic print statement"
   ]
  },
  {
   "cell_type": "code",
   "execution_count": 1,
   "id": "9347b6ba",
   "metadata": {},
   "outputs": [
    {
     "name": "stdout",
     "output_type": "stream",
     "text": [
      "hello vicky\n"
     ]
    }
   ],
   "source": [
    "print(\"hello vicky\")"
   ]
  },
  {
   "cell_type": "code",
   "execution_count": 2,
   "id": "f4cc427a",
   "metadata": {},
   "outputs": [
    {
     "name": "stdout",
     "output_type": "stream",
     "text": [
      "good morning\n"
     ]
    }
   ],
   "source": [
    "print(\"good morning\")"
   ]
  },
  {
   "cell_type": "code",
   "execution_count": 3,
   "id": "8230793e",
   "metadata": {},
   "outputs": [
    {
     "name": "stdout",
     "output_type": "stream",
     "text": [
      "hello vicky\n",
      "good morning\n"
     ]
    }
   ],
   "source": [
    "print(\"hello vicky\\ngood morning\")"
   ]
  },
  {
   "cell_type": "markdown",
   "id": "815d431e",
   "metadata": {},
   "source": [
    "# python- basic algebraic operations\n"
   ]
  },
  {
   "cell_type": "code",
   "execution_count": 2,
   "id": "027fc67a",
   "metadata": {},
   "outputs": [
    {
     "data": {
      "text/plain": [
       "6"
      ]
     },
     "execution_count": 2,
     "metadata": {},
     "output_type": "execute_result"
    }
   ],
   "source": [
    "1+5"
   ]
  },
  {
   "cell_type": "code",
   "execution_count": 3,
   "id": "754175a4",
   "metadata": {},
   "outputs": [
    {
     "data": {
      "text/plain": [
       "-1"
      ]
     },
     "execution_count": 3,
     "metadata": {},
     "output_type": "execute_result"
    }
   ],
   "source": [
    "5-6"
   ]
  },
  {
   "cell_type": "code",
   "execution_count": 4,
   "id": "d8d4716e",
   "metadata": {},
   "outputs": [
    {
     "data": {
      "text/plain": [
       "30"
      ]
     },
     "execution_count": 4,
     "metadata": {},
     "output_type": "execute_result"
    }
   ],
   "source": [
    "5*6"
   ]
  },
  {
   "cell_type": "code",
   "execution_count": 5,
   "id": "3f5ca085",
   "metadata": {},
   "outputs": [
    {
     "data": {
      "text/plain": [
       "3.3333333333333335"
      ]
     },
     "execution_count": 5,
     "metadata": {},
     "output_type": "execute_result"
    }
   ],
   "source": [
    "10/3"
   ]
  },
  {
   "cell_type": "code",
   "execution_count": 6,
   "id": "cfe04dfc",
   "metadata": {},
   "outputs": [
    {
     "data": {
      "text/plain": [
       "6"
      ]
     },
     "execution_count": 6,
     "metadata": {},
     "output_type": "execute_result"
    }
   ],
   "source": [
    "24%9 # modulo"
   ]
  },
  {
   "cell_type": "code",
   "execution_count": 7,
   "id": "12102a9f",
   "metadata": {},
   "outputs": [
    {
     "data": {
      "text/plain": [
       "2"
      ]
     },
     "execution_count": 7,
     "metadata": {},
     "output_type": "execute_result"
    }
   ],
   "source": [
    "24//9  # quotient"
   ]
  },
  {
   "cell_type": "code",
   "execution_count": 8,
   "id": "dcff0093",
   "metadata": {},
   "outputs": [
    {
     "data": {
      "text/plain": [
       "16"
      ]
     },
     "execution_count": 8,
     "metadata": {},
     "output_type": "execute_result"
    }
   ],
   "source": [
    "2**4# exponential"
   ]
  },
  {
   "cell_type": "markdown",
   "id": "30f46e0f",
   "metadata": {},
   "source": [
    "# variables in python"
   ]
  },
  {
   "cell_type": "code",
   "execution_count": 16,
   "id": "fd8c273f",
   "metadata": {},
   "outputs": [],
   "source": [
    "x=10"
   ]
  },
  {
   "cell_type": "code",
   "execution_count": 17,
   "id": "9ea5620a",
   "metadata": {
    "scrolled": true
   },
   "outputs": [
    {
     "data": {
      "text/plain": [
       "2830583163472"
      ]
     },
     "execution_count": 17,
     "metadata": {},
     "output_type": "execute_result"
    }
   ],
   "source": [
    "id(x)"
   ]
  },
  {
   "cell_type": "code",
   "execution_count": 18,
   "id": "e1cac093",
   "metadata": {},
   "outputs": [],
   "source": [
    "y=10"
   ]
  },
  {
   "cell_type": "code",
   "execution_count": 19,
   "id": "95a856c9",
   "metadata": {},
   "outputs": [
    {
     "data": {
      "text/plain": [
       "2830583163472"
      ]
     },
     "execution_count": 19,
     "metadata": {},
     "output_type": "execute_result"
    }
   ],
   "source": [
    "id(y)"
   ]
  },
  {
   "cell_type": "code",
   "execution_count": 1,
   "id": "59c92325",
   "metadata": {},
   "outputs": [],
   "source": [
    "v1=10\n",
    "v_=10\n",
    "_v1=10\n",
    "v1_v=10\n",
    "_=19\n",
    "__=10\n",
    "VVvv=18\n",
    "v=15"
   ]
  },
  {
   "cell_type": "code",
   "execution_count": 10,
   "id": "1841d22f",
   "metadata": {},
   "outputs": [],
   "source": [
    "a = 10\n",
    "b=25"
   ]
  },
  {
   "cell_type": "code",
   "execution_count": 11,
   "id": "382284d2",
   "metadata": {},
   "outputs": [],
   "source": [
    "c=a\n",
    "a=b\n",
    "b=c"
   ]
  },
  {
   "cell_type": "code",
   "execution_count": 12,
   "id": "3ffccc2a",
   "metadata": {},
   "outputs": [
    {
     "data": {
      "text/plain": [
       "25"
      ]
     },
     "execution_count": 12,
     "metadata": {},
     "output_type": "execute_result"
    }
   ],
   "source": [
    "a"
   ]
  },
  {
   "cell_type": "code",
   "execution_count": 13,
   "id": "e105ac8e",
   "metadata": {},
   "outputs": [
    {
     "data": {
      "text/plain": [
       "10"
      ]
     },
     "execution_count": 13,
     "metadata": {},
     "output_type": "execute_result"
    }
   ],
   "source": [
    "b"
   ]
  },
  {
   "cell_type": "code",
   "execution_count": 14,
   "id": "e9e45bab",
   "metadata": {},
   "outputs": [],
   "source": [
    "\n",
    "a,b=b,a # swaping of variables\n"
   ]
  },
  {
   "cell_type": "code",
   "execution_count": 15,
   "id": "1a997421",
   "metadata": {},
   "outputs": [
    {
     "data": {
      "text/plain": [
       "10"
      ]
     },
     "execution_count": 15,
     "metadata": {},
     "output_type": "execute_result"
    }
   ],
   "source": [
    "a"
   ]
  },
  {
   "cell_type": "code",
   "execution_count": 27,
   "id": "74c5419f",
   "metadata": {},
   "outputs": [],
   "source": [
    "x,y,z = 10,20,30"
   ]
  },
  {
   "cell_type": "code",
   "execution_count": 28,
   "id": "ad7df7d5",
   "metadata": {},
   "outputs": [],
   "source": [
    "x=10\n",
    "y=20\n",
    "x,y,x=x*y,y+x,y*5\n",
    "# ans is 200,30,100"
   ]
  },
  {
   "cell_type": "markdown",
   "id": "ec59600f",
   "metadata": {},
   "source": [
    "# data type and containers"
   ]
  },
  {
   "cell_type": "code",
   "execution_count": 30,
   "id": "c960b6e4",
   "metadata": {},
   "outputs": [],
   "source": [
    "#the 4 data types as follows\n",
    "#int and float\n",
    "#string\n",
    "#boolean\n",
    "\n",
    "\n",
    "\n",
    "\n",
    "# 4 types of containers are as follows\n",
    "\n",
    "#list\n",
    "#tuple\n",
    "#set\n",
    "#dictinory\n"
   ]
  },
  {
   "cell_type": "markdown",
   "id": "a409effa",
   "metadata": {},
   "source": [
    "# int and float"
   ]
  },
  {
   "cell_type": "code",
   "execution_count": 29,
   "id": "0b627b4d",
   "metadata": {},
   "outputs": [
    {
     "data": {
      "text/plain": [
       "int"
      ]
     },
     "execution_count": 29,
     "metadata": {},
     "output_type": "execute_result"
    }
   ],
   "source": [
    "x=10\n",
    "type(x)"
   ]
  },
  {
   "cell_type": "code",
   "execution_count": 28,
   "id": "43b03c21",
   "metadata": {},
   "outputs": [
    {
     "name": "stdout",
     "output_type": "stream",
     "text": [
      "<class 'int'>\n"
     ]
    }
   ],
   "source": [
    "print(type(x))"
   ]
  },
  {
   "cell_type": "code",
   "execution_count": 32,
   "id": "4477a3c6",
   "metadata": {},
   "outputs": [
    {
     "data": {
      "text/plain": [
       "float"
      ]
     },
     "execution_count": 32,
     "metadata": {},
     "output_type": "execute_result"
    }
   ],
   "source": [
    "y=10.8\n",
    "type(y)"
   ]
  },
  {
   "cell_type": "code",
   "execution_count": 33,
   "id": "5cc3306a",
   "metadata": {},
   "outputs": [
    {
     "data": {
      "text/plain": [
       "float"
      ]
     },
     "execution_count": 33,
     "metadata": {},
     "output_type": "execute_result"
    }
   ],
   "source": [
    "type(10.0)"
   ]
  },
  {
   "cell_type": "code",
   "execution_count": 35,
   "id": "0b2b0e1d",
   "metadata": {},
   "outputs": [
    {
     "data": {
      "text/plain": [
       "10"
      ]
     },
     "execution_count": 35,
     "metadata": {},
     "output_type": "execute_result"
    }
   ],
   "source": [
    "z=10.2\n",
    "z=int(z)\n",
    "z"
   ]
  },
  {
   "cell_type": "code",
   "execution_count": 36,
   "id": "ebed49ee",
   "metadata": {},
   "outputs": [
    {
     "data": {
      "text/plain": [
       "10.0"
      ]
     },
     "execution_count": 36,
     "metadata": {},
     "output_type": "execute_result"
    }
   ],
   "source": [
    "z=10\n",
    "z=float(z)\n",
    "z"
   ]
  },
  {
   "cell_type": "code",
   "execution_count": 37,
   "id": "6ec66269",
   "metadata": {},
   "outputs": [
    {
     "data": {
      "text/plain": [
       "True"
      ]
     },
     "execution_count": 37,
     "metadata": {},
     "output_type": "execute_result"
    }
   ],
   "source": [
    "x==z"
   ]
  },
  {
   "cell_type": "code",
   "execution_count": 38,
   "id": "93dc4426",
   "metadata": {},
   "outputs": [
    {
     "data": {
      "text/plain": [
       "True"
      ]
     },
     "execution_count": 38,
     "metadata": {},
     "output_type": "execute_result"
    }
   ],
   "source": [
    "10==8+2"
   ]
  },
  {
   "cell_type": "markdown",
   "id": "0bccd2ff",
   "metadata": {},
   "source": [
    "x is z"
   ]
  },
  {
   "cell_type": "code",
   "execution_count": 39,
   "id": "2d3ff937",
   "metadata": {},
   "outputs": [
    {
     "data": {
      "text/plain": [
       "False"
      ]
     },
     "execution_count": 39,
     "metadata": {},
     "output_type": "execute_result"
    }
   ],
   "source": [
    "x is z"
   ]
  },
  {
   "cell_type": "code",
   "execution_count": 42,
   "id": "bae3c6c7",
   "metadata": {},
   "outputs": [],
   "source": [
    "x=10\n",
    "y=10\n"
   ]
  },
  {
   "cell_type": "code",
   "execution_count": 44,
   "id": "23270ad5",
   "metadata": {},
   "outputs": [
    {
     "data": {
      "text/plain": [
       "True"
      ]
     },
     "execution_count": 44,
     "metadata": {},
     "output_type": "execute_result"
    }
   ],
   "source": [
    "x is y # deep copy"
   ]
  },
  {
   "cell_type": "code",
   "execution_count": 45,
   "id": "5be4baa9",
   "metadata": {},
   "outputs": [
    {
     "data": {
      "text/plain": [
       "True"
      ]
     },
     "execution_count": 45,
     "metadata": {},
     "output_type": "execute_result"
    }
   ],
   "source": [
    "x==y # shallow copy"
   ]
  },
  {
   "cell_type": "markdown",
   "id": "fe5bfb1b",
   "metadata": {},
   "source": [
    "# boolean\n"
   ]
  },
  {
   "cell_type": "code",
   "execution_count": 46,
   "id": "ffe643ee",
   "metadata": {},
   "outputs": [
    {
     "data": {
      "text/plain": [
       "True"
      ]
     },
     "execution_count": 46,
     "metadata": {},
     "output_type": "execute_result"
    }
   ],
   "source": [
    "True"
   ]
  },
  {
   "cell_type": "code",
   "execution_count": 47,
   "id": "27ab2596",
   "metadata": {},
   "outputs": [
    {
     "data": {
      "text/plain": [
       "False"
      ]
     },
     "execution_count": 47,
     "metadata": {},
     "output_type": "execute_result"
    }
   ],
   "source": [
    "False"
   ]
  },
  {
   "cell_type": "code",
   "execution_count": 48,
   "id": "32b79d00",
   "metadata": {},
   "outputs": [
    {
     "data": {
      "text/plain": [
       "True"
      ]
     },
     "execution_count": 48,
     "metadata": {},
     "output_type": "execute_result"
    }
   ],
   "source": [
    "10!=9"
   ]
  },
  {
   "cell_type": "code",
   "execution_count": 52,
   "id": "52b331bb",
   "metadata": {},
   "outputs": [
    {
     "data": {
      "text/plain": [
       "False"
      ]
     },
     "execution_count": 52,
     "metadata": {},
     "output_type": "execute_result"
    }
   ],
   "source": [
    "x=0\n",
    "x=bool(x)\n",
    "x"
   ]
  },
  {
   "cell_type": "code",
   "execution_count": 53,
   "id": "f3dc440c",
   "metadata": {},
   "outputs": [
    {
     "data": {
      "text/plain": [
       "True"
      ]
     },
     "execution_count": 53,
     "metadata": {},
     "output_type": "execute_result"
    }
   ],
   "source": [
    "x=10\n",
    "x=bool(x)\n",
    "x"
   ]
  },
  {
   "cell_type": "code",
   "execution_count": 55,
   "id": "73b26ac8",
   "metadata": {},
   "outputs": [
    {
     "data": {
      "text/plain": [
       "1"
      ]
     },
     "execution_count": 55,
     "metadata": {},
     "output_type": "execute_result"
    }
   ],
   "source": [
    "int(True)"
   ]
  },
  {
   "cell_type": "code",
   "execution_count": 56,
   "id": "55960754",
   "metadata": {},
   "outputs": [
    {
     "data": {
      "text/plain": [
       "0"
      ]
     },
     "execution_count": 56,
     "metadata": {},
     "output_type": "execute_result"
    }
   ],
   "source": [
    "int(False)"
   ]
  },
  {
   "cell_type": "code",
   "execution_count": 57,
   "id": "7799d927",
   "metadata": {},
   "outputs": [
    {
     "data": {
      "text/plain": [
       "False"
      ]
     },
     "execution_count": 57,
     "metadata": {},
     "output_type": "execute_result"
    }
   ],
   "source": [
    "bool(0)"
   ]
  },
  {
   "cell_type": "code",
   "execution_count": 58,
   "id": "761b03f0",
   "metadata": {},
   "outputs": [
    {
     "data": {
      "text/plain": [
       "True"
      ]
     },
     "execution_count": 58,
     "metadata": {},
     "output_type": "execute_result"
    }
   ],
   "source": [
    "bool(10)"
   ]
  },
  {
   "cell_type": "code",
   "execution_count": 4,
   "id": "e4746805",
   "metadata": {},
   "outputs": [
    {
     "data": {
      "text/plain": [
       "False"
      ]
     },
     "execution_count": 4,
     "metadata": {},
     "output_type": "execute_result"
    }
   ],
   "source": [
    "bool()"
   ]
  },
  {
   "cell_type": "markdown",
   "id": "c2b876b4",
   "metadata": {},
   "source": [
    "# string "
   ]
  },
  {
   "cell_type": "code",
   "execution_count": 59,
   "id": "653d7b08",
   "metadata": {},
   "outputs": [],
   "source": [
    "# collection of characters"
   ]
  },
  {
   "cell_type": "code",
   "execution_count": 46,
   "id": "756f245c",
   "metadata": {},
   "outputs": [],
   "source": [
    "x='python'\n",
    "y=\"python\"\n",
    "z='''python'''"
   ]
  },
  {
   "cell_type": "code",
   "execution_count": 47,
   "id": "f9358cc3",
   "metadata": {},
   "outputs": [
    {
     "data": {
      "text/plain": [
       "True"
      ]
     },
     "execution_count": 47,
     "metadata": {},
     "output_type": "execute_result"
    }
   ],
   "source": [
    "x is z"
   ]
  },
  {
   "cell_type": "code",
   "execution_count": 48,
   "id": "ee0f5dd1",
   "metadata": {},
   "outputs": [
    {
     "data": {
      "text/plain": [
       "True"
      ]
     },
     "execution_count": 48,
     "metadata": {},
     "output_type": "execute_result"
    }
   ],
   "source": [
    "y is z"
   ]
  },
  {
   "cell_type": "code",
   "execution_count": 49,
   "id": "c97a6677",
   "metadata": {},
   "outputs": [
    {
     "data": {
      "text/plain": [
       "'pythonpython'"
      ]
     },
     "execution_count": 49,
     "metadata": {},
     "output_type": "execute_result"
    }
   ],
   "source": [
    "x+z"
   ]
  },
  {
   "cell_type": "code",
   "execution_count": 50,
   "id": "18d8dadb",
   "metadata": {},
   "outputs": [
    {
     "data": {
      "text/plain": [
       "'pythonpythonpython'"
      ]
     },
     "execution_count": 50,
     "metadata": {},
     "output_type": "execute_result"
    }
   ],
   "source": [
    "x*3"
   ]
  },
  {
   "cell_type": "code",
   "execution_count": 51,
   "id": "6a80553b",
   "metadata": {
    "scrolled": true
   },
   "outputs": [
    {
     "ename": "TypeError",
     "evalue": "unsupported operand type(s) for -: 'str' and 'str'",
     "output_type": "error",
     "traceback": [
      "\u001b[1;31m---------------------------------------------------------------------------\u001b[0m",
      "\u001b[1;31mTypeError\u001b[0m                                 Traceback (most recent call last)",
      "\u001b[1;32m~\\AppData\\Local\\Temp\\ipykernel_2104\\2913924812.py\u001b[0m in \u001b[0;36m<module>\u001b[1;34m\u001b[0m\n\u001b[1;32m----> 1\u001b[1;33m \u001b[0mx\u001b[0m\u001b[1;33m-\u001b[0m\u001b[0mx\u001b[0m \u001b[1;31m# it will only work for addition and multiplication\u001b[0m\u001b[1;33m\u001b[0m\u001b[1;33m\u001b[0m\u001b[0m\n\u001b[0m",
      "\u001b[1;31mTypeError\u001b[0m: unsupported operand type(s) for -: 'str' and 'str'"
     ]
    }
   ],
   "source": [
    "x-x # it will only work for addition and multiplication"
   ]
  },
  {
   "cell_type": "code",
   "execution_count": 52,
   "id": "7f5aab8d",
   "metadata": {},
   "outputs": [
    {
     "data": {
      "text/plain": [
       "'PYTHON'"
      ]
     },
     "execution_count": 52,
     "metadata": {},
     "output_type": "execute_result"
    }
   ],
   "source": [
    "x.upper()"
   ]
  },
  {
   "cell_type": "code",
   "execution_count": 53,
   "id": "b151d05a",
   "metadata": {},
   "outputs": [
    {
     "data": {
      "text/plain": [
       "'python'"
      ]
     },
     "execution_count": 53,
     "metadata": {},
     "output_type": "execute_result"
    }
   ],
   "source": [
    "x.lower()"
   ]
  },
  {
   "cell_type": "code",
   "execution_count": 54,
   "id": "b3566c5c",
   "metadata": {},
   "outputs": [
    {
     "data": {
      "text/plain": [
       "'Python'"
      ]
     },
     "execution_count": 54,
     "metadata": {},
     "output_type": "execute_result"
    }
   ],
   "source": [
    "x.capitalize()"
   ]
  },
  {
   "cell_type": "code",
   "execution_count": 86,
   "id": "621c97d0",
   "metadata": {},
   "outputs": [],
   "source": [
    "x=\"we are learNing Python\""
   ]
  },
  {
   "cell_type": "code",
   "execution_count": 87,
   "id": "b8c6bb40",
   "metadata": {
    "scrolled": true
   },
   "outputs": [
    {
     "data": {
      "text/plain": [
       "'We Are Learning Python'"
      ]
     },
     "execution_count": 87,
     "metadata": {},
     "output_type": "execute_result"
    }
   ],
   "source": [
    "x.title() # it will change the first letter into caps and other into small"
   ]
  },
  {
   "cell_type": "code",
   "execution_count": 89,
   "id": "b092731d",
   "metadata": {},
   "outputs": [
    {
     "data": {
      "text/plain": [
       "'We are learning python'"
      ]
     },
     "execution_count": 89,
     "metadata": {},
     "output_type": "execute_result"
    }
   ],
   "source": [
    "x.capitalize() # in this only frst word frst letter caps and remaining all small"
   ]
  },
  {
   "cell_type": "code",
   "execution_count": 90,
   "id": "95077d65",
   "metadata": {},
   "outputs": [
    {
     "data": {
      "text/plain": [
       "'WE ARE LEARnING pYTHON'"
      ]
     },
     "execution_count": 90,
     "metadata": {},
     "output_type": "execute_result"
    }
   ],
   "source": [
    "x.swapcase() # it will change every case into the other"
   ]
  },
  {
   "cell_type": "code",
   "execution_count": 91,
   "id": "37f86631",
   "metadata": {},
   "outputs": [
    {
     "data": {
      "text/plain": [
       "False"
      ]
     },
     "execution_count": 91,
     "metadata": {},
     "output_type": "execute_result"
    }
   ],
   "source": [
    "x.isupper()"
   ]
  },
  {
   "cell_type": "code",
   "execution_count": 92,
   "id": "7f387e2f",
   "metadata": {},
   "outputs": [
    {
     "data": {
      "text/plain": [
       "False"
      ]
     },
     "execution_count": 92,
     "metadata": {},
     "output_type": "execute_result"
    }
   ],
   "source": [
    "x.islower()"
   ]
  },
  {
   "cell_type": "code",
   "execution_count": 93,
   "id": "9ecb0c45",
   "metadata": {},
   "outputs": [
    {
     "data": {
      "text/plain": [
       "False"
      ]
     },
     "execution_count": 93,
     "metadata": {},
     "output_type": "execute_result"
    }
   ],
   "source": [
    "x.isalpha()"
   ]
  },
  {
   "cell_type": "code",
   "execution_count": 94,
   "id": "3268cee5",
   "metadata": {},
   "outputs": [
    {
     "data": {
      "text/plain": [
       "False"
      ]
     },
     "execution_count": 94,
     "metadata": {},
     "output_type": "execute_result"
    }
   ],
   "source": [
    "\n",
    "x.isalnum()"
   ]
  },
  {
   "cell_type": "code",
   "execution_count": 95,
   "id": "41189f7b",
   "metadata": {},
   "outputs": [
    {
     "data": {
      "text/plain": [
       "False"
      ]
     },
     "execution_count": 95,
     "metadata": {},
     "output_type": "execute_result"
    }
   ],
   "source": [
    "x.isalnum()"
   ]
  },
  {
   "cell_type": "code",
   "execution_count": 96,
   "id": "18ebad5e",
   "metadata": {},
   "outputs": [],
   "source": [
    "Y=\"hellointernet\""
   ]
  },
  {
   "cell_type": "code",
   "execution_count": 97,
   "id": "5c46bd6c",
   "metadata": {},
   "outputs": [
    {
     "data": {
      "text/plain": [
       "True"
      ]
     },
     "execution_count": 97,
     "metadata": {},
     "output_type": "execute_result"
    }
   ],
   "source": [
    "Y.isalnum()"
   ]
  },
  {
   "cell_type": "code",
   "execution_count": 98,
   "id": "20b4ce5c",
   "metadata": {},
   "outputs": [],
   "source": [
    "z=\"124563\""
   ]
  },
  {
   "cell_type": "code",
   "execution_count": 99,
   "id": "5cea06ce",
   "metadata": {},
   "outputs": [
    {
     "data": {
      "text/plain": [
       "True"
      ]
     },
     "execution_count": 99,
     "metadata": {},
     "output_type": "execute_result"
    }
   ],
   "source": [
    "z.isalnum()"
   ]
  },
  {
   "cell_type": "code",
   "execution_count": 100,
   "id": "3d336db6",
   "metadata": {},
   "outputs": [
    {
     "data": {
      "text/plain": [
       "True"
      ]
     },
     "execution_count": 100,
     "metadata": {},
     "output_type": "execute_result"
    }
   ],
   "source": [
    "z.isnumeric()"
   ]
  },
  {
   "cell_type": "code",
   "execution_count": 101,
   "id": "92197b35",
   "metadata": {},
   "outputs": [],
   "source": [
    "x = 5"
   ]
  },
  {
   "cell_type": "code",
   "execution_count": 102,
   "id": "f1eb7ae0",
   "metadata": {},
   "outputs": [
    {
     "data": {
      "text/plain": [
       "5"
      ]
     },
     "execution_count": 102,
     "metadata": {},
     "output_type": "execute_result"
    }
   ],
   "source": [
    "x"
   ]
  },
  {
   "cell_type": "code",
   "execution_count": 103,
   "id": "abaca902",
   "metadata": {},
   "outputs": [],
   "source": [
    "z=1"
   ]
  },
  {
   "cell_type": "code",
   "execution_count": 104,
   "id": "a6ca84d8",
   "metadata": {},
   "outputs": [
    {
     "data": {
      "text/plain": [
       "(1+0j)"
      ]
     },
     "execution_count": 104,
     "metadata": {},
     "output_type": "execute_result"
    }
   ],
   "source": [
    "g=complex(z)\n",
    "g"
   ]
  },
  {
   "cell_type": "markdown",
   "id": "fa02c877",
   "metadata": {},
   "source": [
    "# indexing"
   ]
  },
  {
   "cell_type": "code",
   "execution_count": 105,
   "id": "a457e2b8",
   "metadata": {},
   "outputs": [],
   "source": [
    "x=\"python\""
   ]
  },
  {
   "cell_type": "code",
   "execution_count": 106,
   "id": "37442579",
   "metadata": {},
   "outputs": [
    {
     "data": {
      "text/plain": [
       "'t'"
      ]
     },
     "execution_count": 106,
     "metadata": {},
     "output_type": "execute_result"
    }
   ],
   "source": [
    "x[2]"
   ]
  },
  {
   "cell_type": "code",
   "execution_count": 107,
   "id": "4d04a1c4",
   "metadata": {},
   "outputs": [
    {
     "data": {
      "text/plain": [
       "'yt'"
      ]
     },
     "execution_count": 107,
     "metadata": {},
     "output_type": "execute_result"
    }
   ],
   "source": [
    "x[1:3]"
   ]
  },
  {
   "cell_type": "code",
   "execution_count": 108,
   "id": "e763c5f6",
   "metadata": {},
   "outputs": [
    {
     "data": {
      "text/plain": [
       "'ho'"
      ]
     },
     "execution_count": 108,
     "metadata": {},
     "output_type": "execute_result"
    }
   ],
   "source": [
    "x[3:5]"
   ]
  },
  {
   "cell_type": "code",
   "execution_count": 109,
   "id": "e516dfc3",
   "metadata": {},
   "outputs": [
    {
     "data": {
      "text/plain": [
       "'hon'"
      ]
     },
     "execution_count": 109,
     "metadata": {},
     "output_type": "execute_result"
    }
   ],
   "source": [
    "x[3:100]"
   ]
  },
  {
   "cell_type": "code",
   "execution_count": 110,
   "id": "27d53f04",
   "metadata": {},
   "outputs": [
    {
     "data": {
      "text/plain": [
       "3"
      ]
     },
     "execution_count": 110,
     "metadata": {},
     "output_type": "execute_result"
    }
   ],
   "source": [
    "x.index('h')"
   ]
  },
  {
   "cell_type": "code",
   "execution_count": 111,
   "id": "4da0b733",
   "metadata": {},
   "outputs": [
    {
     "data": {
      "text/plain": [
       "2"
      ]
     },
     "execution_count": 111,
     "metadata": {},
     "output_type": "execute_result"
    }
   ],
   "source": [
    "x.index('t')"
   ]
  },
  {
   "cell_type": "code",
   "execution_count": 112,
   "id": "134fdccd",
   "metadata": {},
   "outputs": [],
   "source": [
    "??x.index"
   ]
  },
  {
   "cell_type": "code",
   "execution_count": 113,
   "id": "7cae88b6",
   "metadata": {},
   "outputs": [
    {
     "name": "stdout",
     "output_type": "stream",
     "text": [
      "Help on built-in function index:\n",
      "\n",
      "index(...) method of builtins.str instance\n",
      "    S.index(sub[, start[, end]]) -> int\n",
      "    \n",
      "    Return the lowest index in S where substring sub is found,\n",
      "    such that sub is contained within S[start:end].  Optional\n",
      "    arguments start and end are interpreted as in slice notation.\n",
      "    \n",
      "    Raises ValueError when the substring is not found.\n",
      "\n"
     ]
    }
   ],
   "source": [
    "help(x.index)"
   ]
  },
  {
   "cell_type": "code",
   "execution_count": 114,
   "id": "73c7edf3",
   "metadata": {},
   "outputs": [
    {
     "data": {
      "text/plain": [
       "3"
      ]
     },
     "execution_count": 114,
     "metadata": {},
     "output_type": "execute_result"
    }
   ],
   "source": [
    "x.find('h')"
   ]
  },
  {
   "cell_type": "code",
   "execution_count": 115,
   "id": "95ba41c3",
   "metadata": {},
   "outputs": [
    {
     "ename": "ValueError",
     "evalue": "substring not found",
     "output_type": "error",
     "traceback": [
      "\u001b[1;31m---------------------------------------------------------------------------\u001b[0m",
      "\u001b[1;31mValueError\u001b[0m                                Traceback (most recent call last)",
      "\u001b[1;32m~\\AppData\\Local\\Temp\\ipykernel_2104\\3121950700.py\u001b[0m in \u001b[0;36m<module>\u001b[1;34m\u001b[0m\n\u001b[1;32m----> 1\u001b[1;33m \u001b[0mx\u001b[0m\u001b[1;33m.\u001b[0m\u001b[0mindex\u001b[0m\u001b[1;33m(\u001b[0m\u001b[1;34m'a'\u001b[0m\u001b[1;33m)\u001b[0m\u001b[1;33m\u001b[0m\u001b[1;33m\u001b[0m\u001b[0m\n\u001b[0m",
      "\u001b[1;31mValueError\u001b[0m: substring not found"
     ]
    }
   ],
   "source": [
    "x.index('a') #if tht character is absent then it will give  error"
   ]
  },
  {
   "cell_type": "code",
   "execution_count": 116,
   "id": "1db19b53",
   "metadata": {},
   "outputs": [
    {
     "data": {
      "text/plain": [
       "-1"
      ]
     },
     "execution_count": 116,
     "metadata": {},
     "output_type": "execute_result"
    }
   ],
   "source": [
    "x.find('a') # if tht character is absent then it will give -1 instead of error"
   ]
  },
  {
   "cell_type": "code",
   "execution_count": 120,
   "id": "f743d215",
   "metadata": {},
   "outputs": [],
   "source": [
    "x='kython'"
   ]
  },
  {
   "cell_type": "code",
   "execution_count": 121,
   "id": "04da771a",
   "metadata": {},
   "outputs": [
    {
     "data": {
      "text/plain": [
       "'python'"
      ]
     },
     "execution_count": 121,
     "metadata": {},
     "output_type": "execute_result"
    }
   ],
   "source": [
    "a=x.replace('k','p')\n",
    "a"
   ]
  },
  {
   "cell_type": "code",
   "execution_count": 122,
   "id": "3dc9153d",
   "metadata": {},
   "outputs": [
    {
     "data": {
      "text/plain": [
       "'kython'"
      ]
     },
     "execution_count": 122,
     "metadata": {},
     "output_type": "execute_result"
    }
   ],
   "source": [
    "x"
   ]
  },
  {
   "cell_type": "code",
   "execution_count": 123,
   "id": "d7e47ca3",
   "metadata": {},
   "outputs": [
    {
     "data": {
      "text/plain": [
       "'python'"
      ]
     },
     "execution_count": 123,
     "metadata": {},
     "output_type": "execute_result"
    }
   ],
   "source": [
    "a"
   ]
  },
  {
   "cell_type": "code",
   "execution_count": 124,
   "id": "b3e8ba35",
   "metadata": {},
   "outputs": [],
   "source": [
    "x=\"   python   \""
   ]
  },
  {
   "cell_type": "code",
   "execution_count": 125,
   "id": "8a1270bb",
   "metadata": {},
   "outputs": [
    {
     "data": {
      "text/plain": [
       "'python'"
      ]
     },
     "execution_count": 125,
     "metadata": {},
     "output_type": "execute_result"
    }
   ],
   "source": [
    "x.strip()"
   ]
  },
  {
   "cell_type": "markdown",
   "id": "65ee82ea",
   "metadata": {},
   "source": [
    "# str to int"
   ]
  },
  {
   "cell_type": "code",
   "execution_count": 126,
   "id": "743bbc50",
   "metadata": {},
   "outputs": [
    {
     "ename": "TypeError",
     "evalue": "can only concatenate str (not \"int\") to str",
     "output_type": "error",
     "traceback": [
      "\u001b[1;31m---------------------------------------------------------------------------\u001b[0m",
      "\u001b[1;31mTypeError\u001b[0m                                 Traceback (most recent call last)",
      "\u001b[1;32m~\\AppData\\Local\\Temp\\ipykernel_2104\\2022699261.py\u001b[0m in \u001b[0;36m<module>\u001b[1;34m\u001b[0m\n\u001b[0;32m      1\u001b[0m \u001b[0mx\u001b[0m\u001b[1;33m=\u001b[0m\u001b[1;34m'12'\u001b[0m\u001b[1;33m\u001b[0m\u001b[1;33m\u001b[0m\u001b[0m\n\u001b[1;32m----> 2\u001b[1;33m \u001b[0mx\u001b[0m\u001b[1;33m+\u001b[0m\u001b[1;36m1\u001b[0m\u001b[1;33m\u001b[0m\u001b[1;33m\u001b[0m\u001b[0m\n\u001b[0m",
      "\u001b[1;31mTypeError\u001b[0m: can only concatenate str (not \"int\") to str"
     ]
    }
   ],
   "source": [
    "x='12'\n",
    "x+1"
   ]
  },
  {
   "cell_type": "code",
   "execution_count": 127,
   "id": "7a0c23e3",
   "metadata": {},
   "outputs": [
    {
     "data": {
      "text/plain": [
       "13"
      ]
     },
     "execution_count": 127,
     "metadata": {},
     "output_type": "execute_result"
    }
   ],
   "source": [
    "z=int(x)+1\n",
    "z"
   ]
  },
  {
   "cell_type": "code",
   "execution_count": 128,
   "id": "a3a9d472",
   "metadata": {},
   "outputs": [],
   "source": [
    "x=\"12\""
   ]
  },
  {
   "cell_type": "code",
   "execution_count": 129,
   "id": "aa641c27",
   "metadata": {},
   "outputs": [
    {
     "data": {
      "text/plain": [
       "12"
      ]
     },
     "execution_count": 129,
     "metadata": {},
     "output_type": "execute_result"
    }
   ],
   "source": [
    "x=int(x)\n",
    "x"
   ]
  },
  {
   "cell_type": "code",
   "execution_count": 130,
   "id": "b37f2892",
   "metadata": {},
   "outputs": [
    {
     "data": {
      "text/plain": [
       "'12'"
      ]
     },
     "execution_count": 130,
     "metadata": {},
     "output_type": "execute_result"
    }
   ],
   "source": [
    "x=str(x)\n",
    "x"
   ]
  },
  {
   "cell_type": "markdown",
   "id": "6d161e87",
   "metadata": {},
   "source": [
    "# containers........"
   ]
  },
  {
   "cell_type": "markdown",
   "id": "d3a0c74b",
   "metadata": {},
   "source": [
    "# list"
   ]
  },
  {
   "cell_type": "code",
   "execution_count": 131,
   "id": "5a534bde",
   "metadata": {},
   "outputs": [],
   "source": [
    "#collections of objects"
   ]
  },
  {
   "cell_type": "code",
   "execution_count": 132,
   "id": "dcdcbea6",
   "metadata": {},
   "outputs": [],
   "source": [
    "x=[1,1.2,'sam',True,[1,2]] # it contain 5 objects"
   ]
  },
  {
   "cell_type": "code",
   "execution_count": 133,
   "id": "855981aa",
   "metadata": {},
   "outputs": [
    {
     "data": {
      "text/plain": [
       "5"
      ]
     },
     "execution_count": 133,
     "metadata": {},
     "output_type": "execute_result"
    }
   ],
   "source": [
    "len(x)"
   ]
  },
  {
   "cell_type": "code",
   "execution_count": 134,
   "id": "4df41e37",
   "metadata": {},
   "outputs": [],
   "source": [
    "x=[\"a\",\"b\",1,True]"
   ]
  },
  {
   "cell_type": "code",
   "execution_count": 141,
   "id": "3edf2c0d",
   "metadata": {},
   "outputs": [
    {
     "data": {
      "text/plain": [
       "['a', 'b', 1, True, 'a', 'b', 1, True]"
      ]
     },
     "execution_count": 141,
     "metadata": {},
     "output_type": "execute_result"
    }
   ],
   "source": [
    "x+x #list concatination"
   ]
  },
  {
   "cell_type": "code",
   "execution_count": 142,
   "id": "37b537bc",
   "metadata": {},
   "outputs": [
    {
     "data": {
      "text/plain": [
       "['a', 'b', 1, True, 'a', 'b', 1, True]"
      ]
     },
     "execution_count": 142,
     "metadata": {},
     "output_type": "execute_result"
    }
   ],
   "source": [
    "x*2"
   ]
  },
  {
   "cell_type": "code",
   "execution_count": 143,
   "id": "3522d582",
   "metadata": {},
   "outputs": [
    {
     "data": {
      "text/plain": [
       "0"
      ]
     },
     "execution_count": 143,
     "metadata": {},
     "output_type": "execute_result"
    }
   ],
   "source": [
    "x.index('a')"
   ]
  },
  {
   "cell_type": "code",
   "execution_count": 144,
   "id": "f8d50a76",
   "metadata": {},
   "outputs": [
    {
     "data": {
      "text/plain": [
       "1"
      ]
     },
     "execution_count": 144,
     "metadata": {},
     "output_type": "execute_result"
    }
   ],
   "source": [
    "x.count(\"a\")"
   ]
  },
  {
   "cell_type": "code",
   "execution_count": 145,
   "id": "ec369f93",
   "metadata": {},
   "outputs": [
    {
     "data": {
      "text/plain": [
       "0"
      ]
     },
     "execution_count": 145,
     "metadata": {},
     "output_type": "execute_result"
    }
   ],
   "source": [
    "x.count('p')"
   ]
  },
  {
   "cell_type": "code",
   "execution_count": 146,
   "id": "d0700b8d",
   "metadata": {},
   "outputs": [],
   "source": [
    "# these 5(len,x+x,x*2,count,index) properties are same in list ,string and tuple"
   ]
  },
  {
   "cell_type": "code",
   "execution_count": 147,
   "id": "9f138659",
   "metadata": {},
   "outputs": [
    {
     "data": {
      "text/plain": [
       "['a', 'b', 1, True]"
      ]
     },
     "execution_count": 147,
     "metadata": {},
     "output_type": "execute_result"
    }
   ],
   "source": [
    "x"
   ]
  },
  {
   "cell_type": "code",
   "execution_count": 148,
   "id": "febbc480",
   "metadata": {},
   "outputs": [
    {
     "data": {
      "text/plain": [
       "1382831018240"
      ]
     },
     "execution_count": 148,
     "metadata": {},
     "output_type": "execute_result"
    }
   ],
   "source": [
    "id(x)"
   ]
  },
  {
   "cell_type": "code",
   "execution_count": 149,
   "id": "184a5891",
   "metadata": {},
   "outputs": [],
   "source": [
    "x[1]='c'"
   ]
  },
  {
   "cell_type": "code",
   "execution_count": 150,
   "id": "15a086f9",
   "metadata": {},
   "outputs": [
    {
     "data": {
      "text/plain": [
       "['a', 'c', 1, True]"
      ]
     },
     "execution_count": 150,
     "metadata": {},
     "output_type": "execute_result"
    }
   ],
   "source": [
    "x"
   ]
  },
  {
   "cell_type": "code",
   "execution_count": 151,
   "id": "6fb0944e",
   "metadata": {},
   "outputs": [
    {
     "data": {
      "text/plain": [
       "1382831018240"
      ]
     },
     "execution_count": 151,
     "metadata": {},
     "output_type": "execute_result"
    }
   ],
   "source": [
    "id(x)"
   ]
  },
  {
   "cell_type": "code",
   "execution_count": 153,
   "id": "ec0dcce3",
   "metadata": {},
   "outputs": [],
   "source": [
    "s=\"abc\" # its a string and there is no option of update or changing so they ae immutable"
   ]
  },
  {
   "cell_type": "code",
   "execution_count": 156,
   "id": "beabdaca",
   "metadata": {},
   "outputs": [
    {
     "ename": "TypeError",
     "evalue": "'str' object does not support item assignment",
     "output_type": "error",
     "traceback": [
      "\u001b[1;31m---------------------------------------------------------------------------\u001b[0m",
      "\u001b[1;31mTypeError\u001b[0m                                 Traceback (most recent call last)",
      "\u001b[1;32m~\\AppData\\Local\\Temp\\ipykernel_2104\\642845139.py\u001b[0m in \u001b[0;36m<module>\u001b[1;34m\u001b[0m\n\u001b[1;32m----> 1\u001b[1;33m \u001b[0ms\u001b[0m\u001b[1;33m[\u001b[0m\u001b[1;36m0\u001b[0m\u001b[1;33m]\u001b[0m\u001b[1;33m=\u001b[0m\u001b[1;34m\"k\"\u001b[0m \u001b[1;31m# strings are immutable\u001b[0m\u001b[1;33m\u001b[0m\u001b[1;33m\u001b[0m\u001b[0m\n\u001b[0m",
      "\u001b[1;31mTypeError\u001b[0m: 'str' object does not support item assignment"
     ]
    }
   ],
   "source": [
    "s[0]=\"k\" # strings are immutable"
   ]
  },
  {
   "cell_type": "code",
   "execution_count": 157,
   "id": "ee13020f",
   "metadata": {},
   "outputs": [],
   "source": [
    "s=[\"a\",\"b\",\"c\"] #mutable"
   ]
  },
  {
   "cell_type": "code",
   "execution_count": 158,
   "id": "d62110b9",
   "metadata": {},
   "outputs": [
    {
     "data": {
      "text/plain": [
       "['k', 'b', 'c']"
      ]
     },
     "execution_count": 158,
     "metadata": {},
     "output_type": "execute_result"
    }
   ],
   "source": [
    "s[0]=\"k\"\n",
    "s"
   ]
  },
  {
   "cell_type": "code",
   "execution_count": 159,
   "id": "faa466e6",
   "metadata": {},
   "outputs": [
    {
     "data": {
      "text/plain": [
       "[1, 4, 23, 90, 67]"
      ]
     },
     "execution_count": 159,
     "metadata": {},
     "output_type": "execute_result"
    }
   ],
   "source": [
    "x=[1,4,23,90,67] # adding of objects\n",
    "x"
   ]
  },
  {
   "cell_type": "code",
   "execution_count": 71,
   "id": "375f0776",
   "metadata": {},
   "outputs": [
    {
     "data": {
      "text/plain": [
       "[1, 4, 23, 90, 67, 100, 100]"
      ]
     },
     "execution_count": 71,
     "metadata": {},
     "output_type": "execute_result"
    }
   ],
   "source": [
    "x.append(100) #1st method\n",
    "x"
   ]
  },
  {
   "cell_type": "code",
   "execution_count": 72,
   "id": "06b2cffa",
   "metadata": {},
   "outputs": [],
   "source": [
    "x.insert(2,\"sam\") #2nd method"
   ]
  },
  {
   "cell_type": "code",
   "execution_count": 73,
   "id": "dd713738",
   "metadata": {},
   "outputs": [
    {
     "data": {
      "text/plain": [
       "[1, 4, 'sam', 23, 90, 67, 100, 100]"
      ]
     },
     "execution_count": 73,
     "metadata": {},
     "output_type": "execute_result"
    }
   ],
   "source": [
    "x"
   ]
  },
  {
   "cell_type": "code",
   "execution_count": 70,
   "id": "a31823fd",
   "metadata": {},
   "outputs": [
    {
     "data": {
      "text/plain": [
       "[1, 67, 24, 18]"
      ]
     },
     "execution_count": 70,
     "metadata": {},
     "output_type": "execute_result"
    }
   ],
   "source": [
    "l=[1,67,12,24,18]\n",
    "l.remove(12)\n",
    "l"
   ]
  },
  {
   "cell_type": "code",
   "execution_count": 75,
   "id": "cceefe20",
   "metadata": {},
   "outputs": [
    {
     "data": {
      "text/plain": [
       "[1, 67, 24, 18]"
      ]
     },
     "execution_count": 75,
     "metadata": {},
     "output_type": "execute_result"
    }
   ],
   "source": [
    "l=[1,67,12,24,18]\n",
    "l.pop(2)\n",
    "l"
   ]
  },
  {
   "cell_type": "code",
   "execution_count": 73,
   "id": "731d4658",
   "metadata": {},
   "outputs": [],
   "source": [
    "l=[1,67,12,24,18]\n",
    "del l[0]\n",
    "l"
   ]
  },
  {
   "cell_type": "markdown",
   "id": "85f5d240",
   "metadata": {},
   "source": [
    "# list to string"
   ]
  },
  {
   "cell_type": "code",
   "execution_count": 228,
   "id": "535c0d55",
   "metadata": {},
   "outputs": [],
   "source": [
    "a=\"sam\"\n",
    "a=list(a)"
   ]
  },
  {
   "cell_type": "code",
   "execution_count": 241,
   "id": "a6798c03",
   "metadata": {},
   "outputs": [
    {
     "data": {
      "text/plain": [
       "['s', 'a', 'm']"
      ]
     },
     "execution_count": 241,
     "metadata": {},
     "output_type": "execute_result"
    }
   ],
   "source": [
    "a\n"
   ]
  },
  {
   "cell_type": "code",
   "execution_count": 242,
   "id": "f1169134",
   "metadata": {},
   "outputs": [
    {
     "data": {
      "text/plain": [
       "'sam'"
      ]
     },
     "execution_count": 242,
     "metadata": {},
     "output_type": "execute_result"
    }
   ],
   "source": [
    "\"\".join(a)"
   ]
  },
  {
   "cell_type": "code",
   "execution_count": 243,
   "id": "4cc8e933",
   "metadata": {},
   "outputs": [
    {
     "data": {
      "text/plain": [
       "['s', 'a', 'm']"
      ]
     },
     "execution_count": 243,
     "metadata": {},
     "output_type": "execute_result"
    }
   ],
   "source": [
    "a"
   ]
  },
  {
   "cell_type": "code",
   "execution_count": 244,
   "id": "031fb641",
   "metadata": {},
   "outputs": [
    {
     "data": {
      "text/plain": [
       "'s*a*m'"
      ]
     },
     "execution_count": 244,
     "metadata": {},
     "output_type": "execute_result"
    }
   ],
   "source": [
    "\"*\".join(a)"
   ]
  },
  {
   "cell_type": "code",
   "execution_count": 245,
   "id": "c65edeff",
   "metadata": {},
   "outputs": [],
   "source": [
    "# below s my rough work"
   ]
  },
  {
   "cell_type": "code",
   "execution_count": 246,
   "id": "02d7b5d0",
   "metadata": {},
   "outputs": [
    {
     "data": {
      "text/plain": [
       "['1', '2', '3', '4']"
      ]
     },
     "execution_count": 246,
     "metadata": {},
     "output_type": "execute_result"
    }
   ],
   "source": [
    "y=[]\n",
    "for x in range(1,5):\n",
    "    y.append(str(x))\n",
    "y\n",
    "\n"
   ]
  },
  {
   "cell_type": "code",
   "execution_count": 247,
   "id": "e4041eec",
   "metadata": {},
   "outputs": [
    {
     "data": {
      "text/plain": [
       "'1234'"
      ]
     },
     "execution_count": 247,
     "metadata": {},
     "output_type": "execute_result"
    }
   ],
   "source": [
    "z=\"\".join(y)\n",
    "z"
   ]
  },
  {
   "cell_type": "code",
   "execution_count": 248,
   "id": "a896b101",
   "metadata": {},
   "outputs": [
    {
     "name": "stdout",
     "output_type": "stream",
     "text": [
      "1234"
     ]
    }
   ],
   "source": [
    "for x in range(1,5):\n",
    "    print(x,end=\"\")"
   ]
  },
  {
   "cell_type": "code",
   "execution_count": 249,
   "id": "0ac7bfa3",
   "metadata": {},
   "outputs": [
    {
     "name": "stdout",
     "output_type": "stream",
     "text": [
      "#\n",
      "##\n",
      "###\n",
      "####\n",
      "#####\n",
      "######\n"
     ]
    }
   ],
   "source": [
    "n=6\n",
    "for i in range(0,n):\n",
    "    for j in range(0,i+1):\n",
    "        print(\"#\",end=\"\")\n",
    "    print(\"\")"
   ]
  },
  {
   "cell_type": "markdown",
   "id": "0b8d0b66",
   "metadata": {},
   "source": [
    "# tuple"
   ]
  },
  {
   "cell_type": "code",
   "execution_count": 250,
   "id": "787301b7",
   "metadata": {},
   "outputs": [],
   "source": [
    "#it is a container it is collection of objects which is immutable"
   ]
  },
  {
   "cell_type": "code",
   "execution_count": 251,
   "id": "3f88d5e2",
   "metadata": {},
   "outputs": [],
   "source": [
    "x=(1,2,3,1.2,True,(1,5),\"sam\")"
   ]
  },
  {
   "cell_type": "code",
   "execution_count": 252,
   "id": "b0cca698",
   "metadata": {},
   "outputs": [
    {
     "data": {
      "text/plain": [
       "(1, 2, 3, 1.2, True, (1, 5), 'sam', 1, 2, 3, 1.2, True, (1, 5), 'sam')"
      ]
     },
     "execution_count": 252,
     "metadata": {},
     "output_type": "execute_result"
    }
   ],
   "source": [
    "x+x"
   ]
  },
  {
   "cell_type": "code",
   "execution_count": 253,
   "id": "5b82a396",
   "metadata": {},
   "outputs": [
    {
     "data": {
      "text/plain": [
       "(1, 2, 3, 1.2, True, (1, 5), 'sam', 1, 2, 3, 1.2, True, (1, 5), 'sam')"
      ]
     },
     "execution_count": 253,
     "metadata": {},
     "output_type": "execute_result"
    }
   ],
   "source": [
    "x*2"
   ]
  },
  {
   "cell_type": "code",
   "execution_count": 254,
   "id": "d91c2331",
   "metadata": {},
   "outputs": [
    {
     "data": {
      "text/plain": [
       "7"
      ]
     },
     "execution_count": 254,
     "metadata": {},
     "output_type": "execute_result"
    }
   ],
   "source": [
    "len(x)"
   ]
  },
  {
   "cell_type": "code",
   "execution_count": 255,
   "id": "bf36a87a",
   "metadata": {},
   "outputs": [
    {
     "data": {
      "text/plain": [
       "0"
      ]
     },
     "execution_count": 255,
     "metadata": {},
     "output_type": "execute_result"
    }
   ],
   "source": [
    "x.index(1)"
   ]
  },
  {
   "cell_type": "code",
   "execution_count": 256,
   "id": "d8edf71e",
   "metadata": {},
   "outputs": [
    {
     "data": {
      "text/plain": [
       "2"
      ]
     },
     "execution_count": 256,
     "metadata": {},
     "output_type": "execute_result"
    }
   ],
   "source": [
    "x.count(1)  # its giving 2 because true is 1 and of 1 in tuple"
   ]
  },
  {
   "cell_type": "code",
   "execution_count": 257,
   "id": "adcfb82e",
   "metadata": {},
   "outputs": [],
   "source": [
    "a=[1,2,3,4]\n",
    "b=(1,2,3,4)"
   ]
  },
  {
   "cell_type": "code",
   "execution_count": 258,
   "id": "bd0e18fe",
   "metadata": {},
   "outputs": [],
   "source": [
    "b=(1,2,3,4)\n"
   ]
  },
  {
   "cell_type": "code",
   "execution_count": 259,
   "id": "4f4eb5f2",
   "metadata": {},
   "outputs": [],
   "source": [
    "a=(5,6,7,9)"
   ]
  },
  {
   "cell_type": "code",
   "execution_count": 260,
   "id": "ddacf8ad",
   "metadata": {},
   "outputs": [
    {
     "data": {
      "text/plain": [
       "1382830952512"
      ]
     },
     "execution_count": 260,
     "metadata": {},
     "output_type": "execute_result"
    }
   ],
   "source": [
    "id(a)"
   ]
  },
  {
   "cell_type": "code",
   "execution_count": 261,
   "id": "7753a270",
   "metadata": {},
   "outputs": [
    {
     "data": {
      "text/plain": [
       "(5, 6, 7, 9, 1, 2, 3, 4)"
      ]
     },
     "execution_count": 261,
     "metadata": {},
     "output_type": "execute_result"
    }
   ],
   "source": [
    "a+=b #updating\n",
    "a"
   ]
  },
  {
   "cell_type": "code",
   "execution_count": 262,
   "id": "46208770",
   "metadata": {},
   "outputs": [
    {
     "data": {
      "text/plain": [
       "1382831158848"
      ]
     },
     "execution_count": 262,
     "metadata": {},
     "output_type": "execute_result"
    }
   ],
   "source": [
    "id(a)"
   ]
  },
  {
   "cell_type": "code",
   "execution_count": 263,
   "id": "1493981d",
   "metadata": {},
   "outputs": [
    {
     "data": {
      "text/plain": [
       "88"
      ]
     },
     "execution_count": 263,
     "metadata": {},
     "output_type": "execute_result"
    }
   ],
   "source": [
    "a.__sizeof__()"
   ]
  },
  {
   "cell_type": "code",
   "execution_count": 264,
   "id": "156fc5e1",
   "metadata": {},
   "outputs": [
    {
     "data": {
      "text/plain": [
       "56"
      ]
     },
     "execution_count": 264,
     "metadata": {},
     "output_type": "execute_result"
    }
   ],
   "source": [
    "b.__sizeof__()"
   ]
  },
  {
   "cell_type": "markdown",
   "id": "ca759abb",
   "metadata": {},
   "source": [
    "# set"
   ]
  },
  {
   "cell_type": "code",
   "execution_count": 93,
   "id": "786970f9",
   "metadata": {},
   "outputs": [],
   "source": [
    "#set is a collection of unique and well defined objects"
   ]
  },
  {
   "cell_type": "code",
   "execution_count": 12,
   "id": "074449dc",
   "metadata": {},
   "outputs": [],
   "source": [
    "a={1,2,3,4,4}"
   ]
  },
  {
   "cell_type": "code",
   "execution_count": 13,
   "id": "d3656cec",
   "metadata": {},
   "outputs": [
    {
     "data": {
      "text/plain": [
       "{1, 2, 3, 4}"
      ]
     },
     "execution_count": 13,
     "metadata": {},
     "output_type": "execute_result"
    }
   ],
   "source": [
    "a"
   ]
  },
  {
   "cell_type": "code",
   "execution_count": 14,
   "id": "7ee64368",
   "metadata": {},
   "outputs": [],
   "source": [
    "b={2,3,4,10}"
   ]
  },
  {
   "cell_type": "code",
   "execution_count": 15,
   "id": "de506443",
   "metadata": {},
   "outputs": [
    {
     "data": {
      "text/plain": [
       "{2, 3, 4, 10}"
      ]
     },
     "execution_count": 15,
     "metadata": {},
     "output_type": "execute_result"
    }
   ],
   "source": [
    "b"
   ]
  },
  {
   "cell_type": "code",
   "execution_count": 16,
   "id": "ec7773c6",
   "metadata": {},
   "outputs": [
    {
     "data": {
      "text/plain": [
       "{1, 2, 3, 4, 10}"
      ]
     },
     "execution_count": 16,
     "metadata": {},
     "output_type": "execute_result"
    }
   ],
   "source": [
    "a|b # union(all unique objects)"
   ]
  },
  {
   "cell_type": "code",
   "execution_count": 17,
   "id": "0c31d7e8",
   "metadata": {},
   "outputs": [
    {
     "data": {
      "text/plain": [
       "{1, 2, 3, 4, 10}"
      ]
     },
     "execution_count": 17,
     "metadata": {},
     "output_type": "execute_result"
    }
   ],
   "source": [
    "a.union(b)"
   ]
  },
  {
   "cell_type": "code",
   "execution_count": 18,
   "id": "90a2ba6e",
   "metadata": {},
   "outputs": [
    {
     "data": {
      "text/plain": [
       "{2, 3, 4}"
      ]
     },
     "execution_count": 18,
     "metadata": {},
     "output_type": "execute_result"
    }
   ],
   "source": [
    "a&b #intersections(only the common objects)"
   ]
  },
  {
   "cell_type": "code",
   "execution_count": 19,
   "id": "9b4fdd04",
   "metadata": {},
   "outputs": [
    {
     "data": {
      "text/plain": [
       "{2, 3, 4}"
      ]
     },
     "execution_count": 19,
     "metadata": {},
     "output_type": "execute_result"
    }
   ],
   "source": [
    "a.intersection(b)"
   ]
  },
  {
   "cell_type": "code",
   "execution_count": 20,
   "id": "534c9b60",
   "metadata": {},
   "outputs": [],
   "source": [
    "a={1,2,3,4}"
   ]
  },
  {
   "cell_type": "code",
   "execution_count": 21,
   "id": "f2d28612",
   "metadata": {},
   "outputs": [
    {
     "data": {
      "text/plain": [
       "2217623910656"
      ]
     },
     "execution_count": 21,
     "metadata": {},
     "output_type": "execute_result"
    }
   ],
   "source": [
    "id(a)"
   ]
  },
  {
   "cell_type": "code",
   "execution_count": 22,
   "id": "3403cb5b",
   "metadata": {},
   "outputs": [],
   "source": [
    "a.add(10)"
   ]
  },
  {
   "cell_type": "code",
   "execution_count": 23,
   "id": "86431bda",
   "metadata": {},
   "outputs": [
    {
     "data": {
      "text/plain": [
       "2217623910656"
      ]
     },
     "execution_count": 23,
     "metadata": {},
     "output_type": "execute_result"
    }
   ],
   "source": [
    "id(a)"
   ]
  },
  {
   "cell_type": "code",
   "execution_count": 24,
   "id": "073992a0",
   "metadata": {},
   "outputs": [
    {
     "data": {
      "text/plain": [
       "{1}"
      ]
     },
     "execution_count": 24,
     "metadata": {},
     "output_type": "execute_result"
    }
   ],
   "source": [
    "a-b"
   ]
  },
  {
   "cell_type": "code",
   "execution_count": 25,
   "id": "11e864b1",
   "metadata": {},
   "outputs": [
    {
     "data": {
      "text/plain": [
       "set()"
      ]
     },
     "execution_count": 25,
     "metadata": {},
     "output_type": "execute_result"
    }
   ],
   "source": [
    "b-a"
   ]
  },
  {
   "cell_type": "code",
   "execution_count": null,
   "id": "718e4ee7",
   "metadata": {},
   "outputs": [],
   "source": []
  },
  {
   "cell_type": "markdown",
   "id": "fc79aefb",
   "metadata": {},
   "source": [
    "# dictionary"
   ]
  },
  {
   "cell_type": "code",
   "execution_count": 16,
   "id": "b1b67c2e",
   "metadata": {},
   "outputs": [],
   "source": [
    "#its a key value pair"
   ]
  },
  {
   "cell_type": "code",
   "execution_count": 27,
   "id": "1e9f4a12",
   "metadata": {},
   "outputs": [],
   "source": [
    "scores={\n",
    "    \"s1\":12,\n",
    "    \"s2\":23,\n",
    "    \"s3\":45   \n",
    "}"
   ]
  },
  {
   "cell_type": "code",
   "execution_count": 28,
   "id": "fd7fbdec",
   "metadata": {},
   "outputs": [
    {
     "data": {
      "text/plain": [
       "12"
      ]
     },
     "execution_count": 28,
     "metadata": {},
     "output_type": "execute_result"
    }
   ],
   "source": [
    "scores[\"s1\"]"
   ]
  },
  {
   "cell_type": "code",
   "execution_count": 20,
   "id": "4a810ecf",
   "metadata": {},
   "outputs": [],
   "source": [
    "# the keys could be int,boolian,float,string\n",
    "#the values could be any values in python\n",
    "#see below for example"
   ]
  },
  {
   "cell_type": "code",
   "execution_count": 34,
   "id": "0ec5039d",
   "metadata": {},
   "outputs": [],
   "source": [
    "test={12:1,\n",
    "     True :\"t\",\n",
    "     12.0:12,\n",
    "     \"string\":123.0,\n",
    "     \"h1\":[1,2,3,4],\n",
    "     12:(1,2,3),\n",
    "     \"k5\":{1,2,3,8},\n",
    "     \"k75\":{12:\"k2\"}}"
   ]
  },
  {
   "cell_type": "code",
   "execution_count": 35,
   "id": "7fe2115e",
   "metadata": {},
   "outputs": [
    {
     "data": {
      "text/plain": [
       "dict_keys([12, True, 'string', 'h1', 'k5', 'k75'])"
      ]
     },
     "execution_count": 35,
     "metadata": {},
     "output_type": "execute_result"
    }
   ],
   "source": [
    "test.keys()"
   ]
  },
  {
   "cell_type": "code",
   "execution_count": 36,
   "id": "d37ef4c3",
   "metadata": {},
   "outputs": [
    {
     "data": {
      "text/plain": [
       "dict_values([(1, 2, 3), 't', 123.0, [1, 2, 3, 4], {8, 1, 2, 3}, {12: 'k2'}])"
      ]
     },
     "execution_count": 36,
     "metadata": {},
     "output_type": "execute_result"
    }
   ],
   "source": [
    "test.values()"
   ]
  },
  {
   "cell_type": "code",
   "execution_count": 37,
   "id": "901f8db6",
   "metadata": {},
   "outputs": [
    {
     "data": {
      "text/plain": [
       "123.0"
      ]
     },
     "execution_count": 37,
     "metadata": {},
     "output_type": "execute_result"
    }
   ],
   "source": [
    "test['string']"
   ]
  },
  {
   "cell_type": "code",
   "execution_count": 40,
   "id": "856341c2",
   "metadata": {},
   "outputs": [],
   "source": [
    "score1={\"n1\":\"vicky\",\n",
    "       \"age\":23}"
   ]
  },
  {
   "cell_type": "code",
   "execution_count": 41,
   "id": "cc3f2964",
   "metadata": {},
   "outputs": [
    {
     "data": {
      "text/plain": [
       "2851106489856"
      ]
     },
     "execution_count": 41,
     "metadata": {},
     "output_type": "execute_result"
    }
   ],
   "source": [
    "id(score1)"
   ]
  },
  {
   "cell_type": "code",
   "execution_count": 46,
   "id": "55e084b1",
   "metadata": {},
   "outputs": [],
   "source": [
    "score1[\"n1\"]=\"ayan\""
   ]
  },
  {
   "cell_type": "code",
   "execution_count": 47,
   "id": "125c3630",
   "metadata": {},
   "outputs": [
    {
     "data": {
      "text/plain": [
       "{'n1': 'ayan', 'age': 23}"
      ]
     },
     "execution_count": 47,
     "metadata": {},
     "output_type": "execute_result"
    }
   ],
   "source": [
    "score1"
   ]
  },
  {
   "cell_type": "code",
   "execution_count": 48,
   "id": "1335cf83",
   "metadata": {},
   "outputs": [
    {
     "data": {
      "text/plain": [
       "2851106489856"
      ]
     },
     "execution_count": 48,
     "metadata": {},
     "output_type": "execute_result"
    }
   ],
   "source": [
    "id(score1)"
   ]
  },
  {
   "cell_type": "code",
   "execution_count": 51,
   "id": "98f5c09e",
   "metadata": {},
   "outputs": [],
   "source": [
    "score1[\"colour\"]=\"black\""
   ]
  },
  {
   "cell_type": "code",
   "execution_count": 52,
   "id": "7d2dbe1e",
   "metadata": {},
   "outputs": [
    {
     "data": {
      "text/plain": [
       "{'n1': 'ayan', 'age': 23, 'colour': 'black'}"
      ]
     },
     "execution_count": 52,
     "metadata": {},
     "output_type": "execute_result"
    }
   ],
   "source": [
    "score1"
   ]
  },
  {
   "cell_type": "code",
   "execution_count": 53,
   "id": "f53c8e46",
   "metadata": {},
   "outputs": [],
   "source": [
    "scores_2022={\"s4\":25,\n",
    "            \"s5\":45}"
   ]
  },
  {
   "cell_type": "code",
   "execution_count": 55,
   "id": "fcd981b7",
   "metadata": {},
   "outputs": [],
   "source": [
    "scores.update(scores_2022) #update"
   ]
  },
  {
   "cell_type": "markdown",
   "id": "fbf7c635",
   "metadata": {},
   "source": [
    "# for loop"
   ]
  },
  {
   "cell_type": "code",
   "execution_count": 2,
   "id": "ced9f321",
   "metadata": {},
   "outputs": [],
   "source": [
    "a=[1,3,4,9,10,29]"
   ]
  },
  {
   "cell_type": "code",
   "execution_count": 68,
   "id": "3b078acd",
   "metadata": {},
   "outputs": [
    {
     "data": {
      "text/plain": [
       "[6, 8, 9, 14, 15, 34]"
      ]
     },
     "execution_count": 68,
     "metadata": {},
     "output_type": "execute_result"
    }
   ],
   "source": [
    "a=[1,3,4,9,10,29]\n",
    "b=[]\n",
    "for i in a:\n",
    "    b.append(i+5)\n",
    "b\n"
   ]
  },
  {
   "cell_type": "code",
   "execution_count": 155,
   "id": "9fe8323a",
   "metadata": {},
   "outputs": [
    {
     "data": {
      "text/plain": [
       "[6, 8, 9, 14, 15, 34]"
      ]
     },
     "execution_count": 155,
     "metadata": {},
     "output_type": "execute_result"
    }
   ],
   "source": [
    "b=[i+5 for i in a]\n",
    "b"
   ]
  },
  {
   "cell_type": "code",
   "execution_count": 74,
   "id": "9eb0b957",
   "metadata": {},
   "outputs": [
    {
     "data": {
      "text/plain": [
       "[6, 8, 9, 14, 15, 34]"
      ]
     },
     "execution_count": 74,
     "metadata": {},
     "output_type": "execute_result"
    }
   ],
   "source": [
    "a=[1,3,4,9,10,29]\n",
    "b=[]\n",
    "for i in a:\n",
    "    b.append(i+5)\n",
    "b"
   ]
  },
  {
   "cell_type": "code",
   "execution_count": null,
   "id": "ddfbe6d7",
   "metadata": {},
   "outputs": [],
   "source": [
    "#sum of the list "
   ]
  },
  {
   "cell_type": "code",
   "execution_count": 23,
   "id": "2c34982b",
   "metadata": {},
   "outputs": [
    {
     "data": {
      "text/plain": [
       "56"
      ]
     },
     "execution_count": 23,
     "metadata": {},
     "output_type": "execute_result"
    }
   ],
   "source": [
    "a=[1,3,4,9,10,29]\n",
    "b=0\n",
    "for i in a:\n",
    "    b=b+i\n",
    "b"
   ]
  },
  {
   "cell_type": "code",
   "execution_count": 24,
   "id": "bede21a8",
   "metadata": {},
   "outputs": [
    {
     "data": {
      "text/plain": [
       "[1, 3, 4, 9, 10, 29]"
      ]
     },
     "execution_count": 24,
     "metadata": {},
     "output_type": "execute_result"
    }
   ],
   "source": [
    "a=[1,3,4,9,10,29]\n",
    "b = 0\n",
    "b=[b+i for i in a]\n",
    "b"
   ]
  },
  {
   "cell_type": "code",
   "execution_count": 19,
   "id": "a2bfabb3",
   "metadata": {},
   "outputs": [],
   "source": [
    "#for multiplication of list"
   ]
  },
  {
   "cell_type": "code",
   "execution_count": null,
   "id": "1f70f4bc",
   "metadata": {},
   "outputs": [],
   "source": [
    "# a=[1,3,4,9,10,29]\n",
    "b=1\n",
    "for i in a:\n",
    "    b=b*i\n",
    "b"
   ]
  },
  {
   "cell_type": "code",
   "execution_count": 266,
   "id": "61e7c52f",
   "metadata": {},
   "outputs": [
    {
     "data": {
      "text/plain": [
       "['ADITYA', 'MADHU', 'VICKY', 'AKANSHA', 'ANUJA']"
      ]
     },
     "execution_count": 266,
     "metadata": {},
     "output_type": "execute_result"
    }
   ],
   "source": [
    "names=[\"aditya\",\"madhu\",\"vicky\",\"akansha\",\"anuja\"]\n",
    "b=[]\n",
    "for i in names:\n",
    "    b.append(i.upper())\n",
    "b"
   ]
  },
  {
   "cell_type": "code",
   "execution_count": 268,
   "id": "039435d5",
   "metadata": {},
   "outputs": [
    {
     "data": {
      "text/plain": [
       "['ADITYA', 'MADHU', 'VICKY', 'AKANSHA', 'ANUJA']"
      ]
     },
     "execution_count": 268,
     "metadata": {},
     "output_type": "execute_result"
    }
   ],
   "source": [
    "b=[i.upper() for i in names]\n",
    "b"
   ]
  },
  {
   "cell_type": "code",
   "execution_count": 115,
   "id": "d97fcdfd",
   "metadata": {},
   "outputs": [
    {
     "data": {
      "text/plain": [
       "['Aditya', 'Madhu', 'Vicky', 'Akansha', 'Anuja']"
      ]
     },
     "execution_count": 115,
     "metadata": {},
     "output_type": "execute_result"
    }
   ],
   "source": [
    "names=[\"aditya\",\"madhu\",\"vicky\",\"akansha\",\"anuja\"]\n",
    "b=[]\n",
    "for i in names:\n",
    "    b.append(i.capitalize())\n",
    "b"
   ]
  },
  {
   "cell_type": "code",
   "execution_count": 270,
   "id": "5292cf6d",
   "metadata": {},
   "outputs": [
    {
     "data": {
      "text/plain": [
       "['Aditya', 'Madhu', 'Vicky', 'Akansha', 'Anuja']"
      ]
     },
     "execution_count": 270,
     "metadata": {},
     "output_type": "execute_result"
    }
   ],
   "source": [
    "b=[i.capitalize() for i in names]\n",
    "b"
   ]
  },
  {
   "cell_type": "code",
   "execution_count": 271,
   "id": "4d4bb90c",
   "metadata": {},
   "outputs": [
    {
     "data": {
      "text/plain": [
       "'ADITYA'"
      ]
     },
     "execution_count": 271,
     "metadata": {},
     "output_type": "execute_result"
    }
   ],
   "source": [
    "names=\"aditya\"\n",
    "names.upper()"
   ]
  },
  {
   "cell_type": "code",
   "execution_count": 272,
   "id": "89a19ccb",
   "metadata": {},
   "outputs": [
    {
     "data": {
      "text/plain": [
       "['Aditya', 'Madhu', 'Vicky', 'Akansha', 'Anuja']"
      ]
     },
     "execution_count": 272,
     "metadata": {},
     "output_type": "execute_result"
    }
   ],
   "source": [
    "names=[\"aditya\",\"madhu\",\"vicky\",\"akansha\",\"anuja\"]\n",
    "b=[x.capitalize() for x in names ]\n",
    "b"
   ]
  },
  {
   "cell_type": "markdown",
   "id": "03af5467",
   "metadata": {},
   "source": [
    "# if else"
   ]
  },
  {
   "cell_type": "code",
   "execution_count": 274,
   "id": "60b0ef22",
   "metadata": {},
   "outputs": [
    {
     "name": "stdout",
     "output_type": "stream",
     "text": [
      "yes\n"
     ]
    }
   ],
   "source": [
    "x=15\n",
    "if x==15.0:\n",
    "    print(\"yes\")\n",
    "else:\n",
    "    print(\"no\")\n",
    "# here values are same and data types are different"
   ]
  },
  {
   "cell_type": "code",
   "execution_count": 275,
   "id": "d76974cc",
   "metadata": {},
   "outputs": [
    {
     "name": "stdout",
     "output_type": "stream",
     "text": [
      "no\n"
     ]
    }
   ],
   "source": [
    "x=15\n",
    "if x==18:    print(\"yes\")\n",
    "else:\n",
    "    print(\"no\")"
   ]
  },
  {
   "cell_type": "code",
   "execution_count": 276,
   "id": "fb68c333",
   "metadata": {},
   "outputs": [
    {
     "name": "stdout",
     "output_type": "stream",
     "text": [
      "46\n",
      "no\n"
     ]
    }
   ],
   "source": [
    "x=input()\n",
    "if x==18:\n",
    "    print(\"yes\")\n",
    "else:\n",
    "    print(\"no\")"
   ]
  },
  {
   "cell_type": "code",
   "execution_count": 278,
   "id": "2f6a5991",
   "metadata": {},
   "outputs": [
    {
     "name": "stdout",
     "output_type": "stream",
     "text": [
      "22\n",
      "greater than 10\n"
     ]
    }
   ],
   "source": [
    "x=int(input())\n",
    "if x > 10:\n",
    "    print(\"greater than 10\")\n",
    "elif x==10:\n",
    "    print(\"its 10\")\n",
    "else:\n",
    "    print(\"its less than 10\")"
   ]
  },
  {
   "cell_type": "code",
   "execution_count": 279,
   "id": "aac0a0cc",
   "metadata": {},
   "outputs": [
    {
     "data": {
      "text/plain": [
       "12"
      ]
     },
     "execution_count": 279,
     "metadata": {},
     "output_type": "execute_result"
    }
   ],
   "source": [
    "x=14\n",
    "if x== 14:\n",
    "    x=12\n",
    "elif x==12:\n",
    "    x=9\n",
    "elif x==9:\n",
    "    x=1\n",
    "else:x=1\n",
    "x"
   ]
  },
  {
   "cell_type": "code",
   "execution_count": 285,
   "id": "adda661b",
   "metadata": {},
   "outputs": [
    {
     "data": {
      "text/plain": [
       "[2, 8, 10, 14]"
      ]
     },
     "execution_count": 285,
     "metadata": {},
     "output_type": "execute_result"
    }
   ],
   "source": [
    "x=[1,2,8,9,10,13,14]\n",
    "even=[]\n",
    "for i in x:\n",
    "    if i%2==0:\n",
    "        even.append(i)\n",
    "even"
   ]
  },
  {
   "cell_type": "code",
   "execution_count": 284,
   "id": "7a2cd1e5",
   "metadata": {},
   "outputs": [
    {
     "data": {
      "text/plain": [
       "([1, 9, 13], [2, 10, 14])"
      ]
     },
     "execution_count": 284,
     "metadata": {},
     "output_type": "execute_result"
    }
   ],
   "source": [
    "x=[1,2,9,10,13,14]\n",
    "even=[]\n",
    "odd=[]\n",
    "for i in x:\n",
    "    if i%2==0:\n",
    "        even.append(i)\n",
    "    elif i%2 == 1:\n",
    "        odd.append(i)\n",
    "odd,even\n",
    "\n",
    "\n"
   ]
  },
  {
   "cell_type": "code",
   "execution_count": 142,
   "id": "5eda63b2",
   "metadata": {},
   "outputs": [
    {
     "data": {
      "text/plain": [
       "[2, 10, 14]"
      ]
     },
     "execution_count": 142,
     "metadata": {},
     "output_type": "execute_result"
    }
   ],
   "source": [
    "even"
   ]
  },
  {
   "cell_type": "code",
   "execution_count": 44,
   "id": "92cb442b",
   "metadata": {},
   "outputs": [],
   "source": [
    "even=[]\n",
    "for i in range(1,100):\n",
    "    if i%2==0:\n",
    "        even.append(i)\n",
    "# even numbers from 1 to 100"
   ]
  },
  {
   "cell_type": "code",
   "execution_count": 54,
   "id": "2df2d5c9",
   "metadata": {},
   "outputs": [],
   "source": [
    "numbers=[]\n",
    "for i in range(1000):\n",
    "    if i % 2 == 1:\n",
    "        numbers.append(i)"
   ]
  },
  {
   "cell_type": "code",
   "execution_count": 55,
   "id": "adaa9f54",
   "metadata": {},
   "outputs": [
    {
     "data": {
      "text/plain": [
       "[1,\n",
       " 3,\n",
       " 5,\n",
       " 7,\n",
       " 9,\n",
       " 11,\n",
       " 13,\n",
       " 15,\n",
       " 17,\n",
       " 19,\n",
       " 21,\n",
       " 23,\n",
       " 25,\n",
       " 27,\n",
       " 29,\n",
       " 31,\n",
       " 33,\n",
       " 35,\n",
       " 37,\n",
       " 39,\n",
       " 41,\n",
       " 43,\n",
       " 45,\n",
       " 47,\n",
       " 49,\n",
       " 51,\n",
       " 53,\n",
       " 55,\n",
       " 57,\n",
       " 59,\n",
       " 61,\n",
       " 63,\n",
       " 65,\n",
       " 67,\n",
       " 69,\n",
       " 71,\n",
       " 73,\n",
       " 75,\n",
       " 77,\n",
       " 79,\n",
       " 81,\n",
       " 83,\n",
       " 85,\n",
       " 87,\n",
       " 89,\n",
       " 91,\n",
       " 93,\n",
       " 95,\n",
       " 97,\n",
       " 99,\n",
       " 101,\n",
       " 103,\n",
       " 105,\n",
       " 107,\n",
       " 109,\n",
       " 111,\n",
       " 113,\n",
       " 115,\n",
       " 117,\n",
       " 119,\n",
       " 121,\n",
       " 123,\n",
       " 125,\n",
       " 127,\n",
       " 129,\n",
       " 131,\n",
       " 133,\n",
       " 135,\n",
       " 137,\n",
       " 139,\n",
       " 141,\n",
       " 143,\n",
       " 145,\n",
       " 147,\n",
       " 149,\n",
       " 151,\n",
       " 153,\n",
       " 155,\n",
       " 157,\n",
       " 159,\n",
       " 161,\n",
       " 163,\n",
       " 165,\n",
       " 167,\n",
       " 169,\n",
       " 171,\n",
       " 173,\n",
       " 175,\n",
       " 177,\n",
       " 179,\n",
       " 181,\n",
       " 183,\n",
       " 185,\n",
       " 187,\n",
       " 189,\n",
       " 191,\n",
       " 193,\n",
       " 195,\n",
       " 197,\n",
       " 199,\n",
       " 201,\n",
       " 203,\n",
       " 205,\n",
       " 207,\n",
       " 209,\n",
       " 211,\n",
       " 213,\n",
       " 215,\n",
       " 217,\n",
       " 219,\n",
       " 221,\n",
       " 223,\n",
       " 225,\n",
       " 227,\n",
       " 229,\n",
       " 231,\n",
       " 233,\n",
       " 235,\n",
       " 237,\n",
       " 239,\n",
       " 241,\n",
       " 243,\n",
       " 245,\n",
       " 247,\n",
       " 249,\n",
       " 251,\n",
       " 253,\n",
       " 255,\n",
       " 257,\n",
       " 259,\n",
       " 261,\n",
       " 263,\n",
       " 265,\n",
       " 267,\n",
       " 269,\n",
       " 271,\n",
       " 273,\n",
       " 275,\n",
       " 277,\n",
       " 279,\n",
       " 281,\n",
       " 283,\n",
       " 285,\n",
       " 287,\n",
       " 289,\n",
       " 291,\n",
       " 293,\n",
       " 295,\n",
       " 297,\n",
       " 299,\n",
       " 301,\n",
       " 303,\n",
       " 305,\n",
       " 307,\n",
       " 309,\n",
       " 311,\n",
       " 313,\n",
       " 315,\n",
       " 317,\n",
       " 319,\n",
       " 321,\n",
       " 323,\n",
       " 325,\n",
       " 327,\n",
       " 329,\n",
       " 331,\n",
       " 333,\n",
       " 335,\n",
       " 337,\n",
       " 339,\n",
       " 341,\n",
       " 343,\n",
       " 345,\n",
       " 347,\n",
       " 349,\n",
       " 351,\n",
       " 353,\n",
       " 355,\n",
       " 357,\n",
       " 359,\n",
       " 361,\n",
       " 363,\n",
       " 365,\n",
       " 367,\n",
       " 369,\n",
       " 371,\n",
       " 373,\n",
       " 375,\n",
       " 377,\n",
       " 379,\n",
       " 381,\n",
       " 383,\n",
       " 385,\n",
       " 387,\n",
       " 389,\n",
       " 391,\n",
       " 393,\n",
       " 395,\n",
       " 397,\n",
       " 399,\n",
       " 401,\n",
       " 403,\n",
       " 405,\n",
       " 407,\n",
       " 409,\n",
       " 411,\n",
       " 413,\n",
       " 415,\n",
       " 417,\n",
       " 419,\n",
       " 421,\n",
       " 423,\n",
       " 425,\n",
       " 427,\n",
       " 429,\n",
       " 431,\n",
       " 433,\n",
       " 435,\n",
       " 437,\n",
       " 439,\n",
       " 441,\n",
       " 443,\n",
       " 445,\n",
       " 447,\n",
       " 449,\n",
       " 451,\n",
       " 453,\n",
       " 455,\n",
       " 457,\n",
       " 459,\n",
       " 461,\n",
       " 463,\n",
       " 465,\n",
       " 467,\n",
       " 469,\n",
       " 471,\n",
       " 473,\n",
       " 475,\n",
       " 477,\n",
       " 479,\n",
       " 481,\n",
       " 483,\n",
       " 485,\n",
       " 487,\n",
       " 489,\n",
       " 491,\n",
       " 493,\n",
       " 495,\n",
       " 497,\n",
       " 499,\n",
       " 501,\n",
       " 503,\n",
       " 505,\n",
       " 507,\n",
       " 509,\n",
       " 511,\n",
       " 513,\n",
       " 515,\n",
       " 517,\n",
       " 519,\n",
       " 521,\n",
       " 523,\n",
       " 525,\n",
       " 527,\n",
       " 529,\n",
       " 531,\n",
       " 533,\n",
       " 535,\n",
       " 537,\n",
       " 539,\n",
       " 541,\n",
       " 543,\n",
       " 545,\n",
       " 547,\n",
       " 549,\n",
       " 551,\n",
       " 553,\n",
       " 555,\n",
       " 557,\n",
       " 559,\n",
       " 561,\n",
       " 563,\n",
       " 565,\n",
       " 567,\n",
       " 569,\n",
       " 571,\n",
       " 573,\n",
       " 575,\n",
       " 577,\n",
       " 579,\n",
       " 581,\n",
       " 583,\n",
       " 585,\n",
       " 587,\n",
       " 589,\n",
       " 591,\n",
       " 593,\n",
       " 595,\n",
       " 597,\n",
       " 599,\n",
       " 601,\n",
       " 603,\n",
       " 605,\n",
       " 607,\n",
       " 609,\n",
       " 611,\n",
       " 613,\n",
       " 615,\n",
       " 617,\n",
       " 619,\n",
       " 621,\n",
       " 623,\n",
       " 625,\n",
       " 627,\n",
       " 629,\n",
       " 631,\n",
       " 633,\n",
       " 635,\n",
       " 637,\n",
       " 639,\n",
       " 641,\n",
       " 643,\n",
       " 645,\n",
       " 647,\n",
       " 649,\n",
       " 651,\n",
       " 653,\n",
       " 655,\n",
       " 657,\n",
       " 659,\n",
       " 661,\n",
       " 663,\n",
       " 665,\n",
       " 667,\n",
       " 669,\n",
       " 671,\n",
       " 673,\n",
       " 675,\n",
       " 677,\n",
       " 679,\n",
       " 681,\n",
       " 683,\n",
       " 685,\n",
       " 687,\n",
       " 689,\n",
       " 691,\n",
       " 693,\n",
       " 695,\n",
       " 697,\n",
       " 699,\n",
       " 701,\n",
       " 703,\n",
       " 705,\n",
       " 707,\n",
       " 709,\n",
       " 711,\n",
       " 713,\n",
       " 715,\n",
       " 717,\n",
       " 719,\n",
       " 721,\n",
       " 723,\n",
       " 725,\n",
       " 727,\n",
       " 729,\n",
       " 731,\n",
       " 733,\n",
       " 735,\n",
       " 737,\n",
       " 739,\n",
       " 741,\n",
       " 743,\n",
       " 745,\n",
       " 747,\n",
       " 749,\n",
       " 751,\n",
       " 753,\n",
       " 755,\n",
       " 757,\n",
       " 759,\n",
       " 761,\n",
       " 763,\n",
       " 765,\n",
       " 767,\n",
       " 769,\n",
       " 771,\n",
       " 773,\n",
       " 775,\n",
       " 777,\n",
       " 779,\n",
       " 781,\n",
       " 783,\n",
       " 785,\n",
       " 787,\n",
       " 789,\n",
       " 791,\n",
       " 793,\n",
       " 795,\n",
       " 797,\n",
       " 799,\n",
       " 801,\n",
       " 803,\n",
       " 805,\n",
       " 807,\n",
       " 809,\n",
       " 811,\n",
       " 813,\n",
       " 815,\n",
       " 817,\n",
       " 819,\n",
       " 821,\n",
       " 823,\n",
       " 825,\n",
       " 827,\n",
       " 829,\n",
       " 831,\n",
       " 833,\n",
       " 835,\n",
       " 837,\n",
       " 839,\n",
       " 841,\n",
       " 843,\n",
       " 845,\n",
       " 847,\n",
       " 849,\n",
       " 851,\n",
       " 853,\n",
       " 855,\n",
       " 857,\n",
       " 859,\n",
       " 861,\n",
       " 863,\n",
       " 865,\n",
       " 867,\n",
       " 869,\n",
       " 871,\n",
       " 873,\n",
       " 875,\n",
       " 877,\n",
       " 879,\n",
       " 881,\n",
       " 883,\n",
       " 885,\n",
       " 887,\n",
       " 889,\n",
       " 891,\n",
       " 893,\n",
       " 895,\n",
       " 897,\n",
       " 899,\n",
       " 901,\n",
       " 903,\n",
       " 905,\n",
       " 907,\n",
       " 909,\n",
       " 911,\n",
       " 913,\n",
       " 915,\n",
       " 917,\n",
       " 919,\n",
       " 921,\n",
       " 923,\n",
       " 925,\n",
       " 927,\n",
       " 929,\n",
       " 931,\n",
       " 933,\n",
       " 935,\n",
       " 937,\n",
       " 939,\n",
       " 941,\n",
       " 943,\n",
       " 945,\n",
       " 947,\n",
       " 949,\n",
       " 951,\n",
       " 953,\n",
       " 955,\n",
       " 957,\n",
       " 959,\n",
       " 961,\n",
       " 963,\n",
       " 965,\n",
       " 967,\n",
       " 969,\n",
       " 971,\n",
       " 973,\n",
       " 975,\n",
       " 977,\n",
       " 979,\n",
       " 981,\n",
       " 983,\n",
       " 985,\n",
       " 987,\n",
       " 989,\n",
       " 991,\n",
       " 993,\n",
       " 995,\n",
       " 997,\n",
       " 999]"
      ]
     },
     "execution_count": 55,
     "metadata": {},
     "output_type": "execute_result"
    }
   ],
   "source": [
    "numbers"
   ]
  },
  {
   "cell_type": "code",
   "execution_count": 56,
   "id": "4baac255",
   "metadata": {},
   "outputs": [],
   "source": [
    "x =[1,2,9,10,13,14,23.98,24.1,28.98]\n",
    "odd=[]\n",
    "even=[]\n",
    "fraction=[]\n",
    "\n",
    "for i in x :\n",
    "    if i%2 == 0:\n",
    "        even.append(i)\n",
    "    if i%2 == 1:\n",
    "        odd.append(i)\n",
    "    else:\n",
    "        fraction.append(i)\n",
    "        "
   ]
  },
  {
   "cell_type": "code",
   "execution_count": 57,
   "id": "9a6b51ce",
   "metadata": {},
   "outputs": [
    {
     "data": {
      "text/plain": [
       "[2, 10, 14]"
      ]
     },
     "execution_count": 57,
     "metadata": {},
     "output_type": "execute_result"
    }
   ],
   "source": [
    "even"
   ]
  },
  {
   "cell_type": "code",
   "execution_count": 58,
   "id": "d35cde3a",
   "metadata": {},
   "outputs": [
    {
     "data": {
      "text/plain": [
       "[1, 9, 13]"
      ]
     },
     "execution_count": 58,
     "metadata": {},
     "output_type": "execute_result"
    }
   ],
   "source": [
    "odd"
   ]
  },
  {
   "cell_type": "code",
   "execution_count": 59,
   "id": "0ccc248e",
   "metadata": {},
   "outputs": [
    {
     "data": {
      "text/plain": [
       "[2, 10, 14, 23.98, 24.1, 28.98]"
      ]
     },
     "execution_count": 59,
     "metadata": {},
     "output_type": "execute_result"
    }
   ],
   "source": [
    "fraction"
   ]
  },
  {
   "cell_type": "code",
   "execution_count": 48,
   "id": "00d609a6",
   "metadata": {},
   "outputs": [],
   "source": [
    "names=[\"aditya\",\"madhu\",\"vicky\",\"akansha\",\"anuja\"]\n",
    "b=[]\n",
    "for i in names:\n",
    "    if \"a\" in i[0]:\n",
    "         b.append(i)\n",
    "   \n",
    "   "
   ]
  },
  {
   "cell_type": "code",
   "execution_count": 64,
   "id": "f561badc",
   "metadata": {},
   "outputs": [
    {
     "data": {
      "text/plain": [
       "['aditya', 'akansha', 'anuja']"
      ]
     },
     "execution_count": 64,
     "metadata": {},
     "output_type": "execute_result"
    }
   ],
   "source": [
    "b"
   ]
  },
  {
   "cell_type": "code",
   "execution_count": 67,
   "id": "20c97521",
   "metadata": {},
   "outputs": [],
   "source": [
    "names=[\"aditya\",\"madhu\",\"vicky\",\"akansha\",\"anuja\",\"umar\"]\n",
    "b=[]\n",
    "for i in names:\n",
    "    if i[0] in \"aeiou\":\n",
    "         b.append(i)\n",
    "   "
   ]
  },
  {
   "cell_type": "code",
   "execution_count": 68,
   "id": "face3e5c",
   "metadata": {},
   "outputs": [
    {
     "data": {
      "text/plain": [
       "['aditya', 'akansha', 'anuja', 'umar']"
      ]
     },
     "execution_count": 68,
     "metadata": {},
     "output_type": "execute_result"
    }
   ],
   "source": [
    "b"
   ]
  },
  {
   "cell_type": "code",
   "execution_count": 55,
   "id": "3d4c988c",
   "metadata": {},
   "outputs": [],
   "source": [
    "names=[\"aditya\",\"madhu\",\"vicky\",\"akansha\",\"anuja\",\"umar\"]\n",
    "b=[]\n",
    "\n",
    "for i in names:\n",
    "    if i[0] == \"a\":\n",
    "        b.append(i)"
   ]
  },
  {
   "cell_type": "code",
   "execution_count": 290,
   "id": "d8bccdaa",
   "metadata": {},
   "outputs": [
    {
     "data": {
      "text/plain": [
       "['aditya', 'akansha', 'anuja']"
      ]
     },
     "execution_count": 290,
     "metadata": {},
     "output_type": "execute_result"
    }
   ],
   "source": [
    "b"
   ]
  },
  {
   "cell_type": "code",
   "execution_count": 291,
   "id": "2b8e81b1",
   "metadata": {},
   "outputs": [
    {
     "data": {
      "text/plain": [
       "['vicky']"
      ]
     },
     "execution_count": 291,
     "metadata": {},
     "output_type": "execute_result"
    }
   ],
   "source": [
    "b=[i for i in names if i == \"vicky\"]\n",
    "b"
   ]
  },
  {
   "cell_type": "code",
   "execution_count": 57,
   "id": "3d3e9494",
   "metadata": {},
   "outputs": [],
   "source": [
    "names=[\"aditya\",\"madhu\",\"vicky\",\"akansha\",\"anuja,umar\"]\n",
    "b=[]\n",
    "\n",
    "for i in names:\n",
    "    if i[0] in \"aeiou\":\n",
    "        b.append(i)"
   ]
  },
  {
   "cell_type": "code",
   "execution_count": 58,
   "id": "4f5043bd",
   "metadata": {},
   "outputs": [
    {
     "data": {
      "text/plain": [
       "['aditya', 'akansha', 'anuja,umar']"
      ]
     },
     "execution_count": 58,
     "metadata": {},
     "output_type": "execute_result"
    }
   ],
   "source": [
    "b"
   ]
  },
  {
   "cell_type": "markdown",
   "id": "2b1fa146",
   "metadata": {},
   "source": [
    "# functions"
   ]
  },
  {
   "cell_type": "code",
   "execution_count": null,
   "id": "8a272986",
   "metadata": {},
   "outputs": [],
   "source": [
    "#writing a reusable code"
   ]
  },
  {
   "cell_type": "code",
   "execution_count": 78,
   "id": "22cd9efc",
   "metadata": {},
   "outputs": [],
   "source": [
    "def x(names):\n",
    "    b=[]\n",
    "    for i in names:\n",
    "        if i[0] in \"aeiou\":\n",
    "            b.append(i)\n",
    "    print(b)"
   ]
  },
  {
   "cell_type": "code",
   "execution_count": 80,
   "id": "e7992947",
   "metadata": {
    "scrolled": true
   },
   "outputs": [
    {
     "name": "stdout",
     "output_type": "stream",
     "text": [
      "['alekh', 'umar']\n"
     ]
    }
   ],
   "source": [
    "x([\"vicky\",\"alekh\",\"samuel\",\"umar\"])"
   ]
  },
  {
   "cell_type": "code",
   "execution_count": 81,
   "id": "17f26032",
   "metadata": {},
   "outputs": [],
   "source": [
    "names = [\"vicky\",\"alekh\",\"samuel\",\"umar\"]"
   ]
  },
  {
   "cell_type": "code",
   "execution_count": 82,
   "id": "7cf33881",
   "metadata": {},
   "outputs": [
    {
     "name": "stdout",
     "output_type": "stream",
     "text": [
      "['alekh', 'umar']\n"
     ]
    }
   ],
   "source": [
    "x(names)"
   ]
  },
  {
   "cell_type": "code",
   "execution_count": 110,
   "id": "ba6040c2",
   "metadata": {},
   "outputs": [],
   "source": [
    "def even_odd(numbers):\n",
    "    even=[]\n",
    "    odd=[]\n",
    "    for i in numbers:\n",
    "        if i%2==0:\n",
    "            even.append(i)\n",
    "        if i % 2 == 1:\n",
    "            odd.append(i)\n",
    "    print(\"these are even numbers :\",even)\n",
    "    print(\"these are odd numbers :\",odd)\n",
    "    "
   ]
  },
  {
   "cell_type": "code",
   "execution_count": 111,
   "id": "f9bc3ea6",
   "metadata": {},
   "outputs": [],
   "source": [
    "numbers = [1,2,3,545,78,45,65,69,8,7,87]"
   ]
  },
  {
   "cell_type": "code",
   "execution_count": 112,
   "id": "ba682296",
   "metadata": {},
   "outputs": [
    {
     "name": "stdout",
     "output_type": "stream",
     "text": [
      "these are even numbers : [2, 78, 8]\n",
      "these are odd numbers : [1, 3, 545, 45, 65, 69, 7, 87]\n"
     ]
    }
   ],
   "source": [
    "even_odd(numbers)"
   ]
  },
  {
   "cell_type": "markdown",
   "id": "d00e3d07",
   "metadata": {},
   "source": [
    "# list comprehension"
   ]
  },
  {
   "cell_type": "code",
   "execution_count": 116,
   "id": "ac60e57e",
   "metadata": {},
   "outputs": [],
   "source": [
    "# it can be used as an alternative to for loop"
   ]
  },
  {
   "cell_type": "code",
   "execution_count": 120,
   "id": "66eff863",
   "metadata": {},
   "outputs": [
    {
     "data": {
      "text/plain": [
       "[2, 4, 5, 91, 24, 68]"
      ]
     },
     "execution_count": 120,
     "metadata": {},
     "output_type": "execute_result"
    }
   ],
   "source": [
    "l=[1,3,4,90,23,67]\n",
    "l2=[]\n",
    "\n",
    "for i in l:\n",
    "    l2.append(i+1)\n",
    "l2"
   ]
  },
  {
   "cell_type": "code",
   "execution_count": 121,
   "id": "bc2a7835",
   "metadata": {},
   "outputs": [
    {
     "data": {
      "text/plain": [
       "[2, 4, 5, 91, 24, 68]"
      ]
     },
     "execution_count": 121,
     "metadata": {},
     "output_type": "execute_result"
    }
   ],
   "source": [
    "l2=[i+1 for i in l]\n",
    "l2"
   ]
  },
  {
   "cell_type": "code",
   "execution_count": 123,
   "id": "c6c0593c",
   "metadata": {},
   "outputs": [
    {
     "data": {
      "text/plain": [
       "[5, 91]"
      ]
     },
     "execution_count": 123,
     "metadata": {},
     "output_type": "execute_result"
    }
   ],
   "source": [
    "l2=[i for i in l if i % 2 == 0]\n",
    "l2"
   ]
  },
  {
   "cell_type": "code",
   "execution_count": 124,
   "id": "d8f72efa",
   "metadata": {},
   "outputs": [],
   "source": [
    "names = [\"vicky\",\"alekh\",\"samuel\",\"umar\"]"
   ]
  },
  {
   "cell_type": "code",
   "execution_count": 126,
   "id": "32fc9546",
   "metadata": {},
   "outputs": [
    {
     "data": {
      "text/plain": [
       "['alekh', 'umar']"
      ]
     },
     "execution_count": 126,
     "metadata": {},
     "output_type": "execute_result"
    }
   ],
   "source": [
    "update_names=[i for i in names if i[0] in \"aeiou\"]\n",
    "update_names"
   ]
  },
  {
   "cell_type": "code",
   "execution_count": 1,
   "id": "04339db6",
   "metadata": {},
   "outputs": [],
   "source": [
    "# where ever for loop is there replace it with list comprehension\n",
    "# prime numbers\n",
    "# gcd 10, 25\n"
   ]
  },
  {
   "cell_type": "code",
   "execution_count": 2,
   "id": "4dd9e724",
   "metadata": {},
   "outputs": [],
   "source": [
    "#gcd is maximum common divisor \n",
    "#maximum number which can divide both numbers"
   ]
  },
  {
   "cell_type": "code",
   "execution_count": 27,
   "id": "6a8499dd",
   "metadata": {},
   "outputs": [],
   "source": [
    "def get_factors(numbers):                # for getting fACtors of numbers\n",
    "    \n",
    "    factors =[]\n",
    "    for i in range(1,numbers+1):\n",
    "        if numbers % i == 0:\n",
    "            factors.append(i)\n",
    "    return(factors)\n"
   ]
  },
  {
   "cell_type": "code",
   "execution_count": 28,
   "id": "3a23f909",
   "metadata": {},
   "outputs": [
    {
     "data": {
      "text/plain": [
       "[1, 2, 3, 4, 6, 8, 12, 24]"
      ]
     },
     "execution_count": 28,
     "metadata": {},
     "output_type": "execute_result"
    }
   ],
   "source": [
    "get_factors(24)"
   ]
  },
  {
   "cell_type": "code",
   "execution_count": 1,
   "id": "a9c9fa2c",
   "metadata": {},
   "outputs": [],
   "source": [
    "#for getting prime numbers\n",
    "\n",
    "def prime(number):               \n",
    "    factors =[]\n",
    "    for i in range(1,number+1):\n",
    "        if number % i == 0:\n",
    "            factors.append(i)\n",
    "    if len(factors) == 2:\n",
    "        print(\"its prime number\")\n",
    "    else:\n",
    "        print(\"its non prime\")\n"
   ]
  },
  {
   "cell_type": "code",
   "execution_count": 4,
   "id": "5be2d507",
   "metadata": {},
   "outputs": [
    {
     "name": "stdout",
     "output_type": "stream",
     "text": [
      "its prime number\n"
     ]
    }
   ],
   "source": [
    "prime(17)"
   ]
  },
  {
   "cell_type": "code",
   "execution_count": 149,
   "id": "82608e03",
   "metadata": {},
   "outputs": [],
   "source": [
    "def gcd(xz,yz):\n",
    "    x=[]\n",
    "    y=[]\n",
    "    for i in range(1,xz+1):\n",
    "        if xz % i == 0:\n",
    "            x.append(i)\n",
    "    for i in range(1,yz+1):\n",
    "        if yz % i == 0:\n",
    "            y.append(i)\n",
    "    z = set(y) & set(x)\n",
    "    return max(z)\n",
    "      "
   ]
  },
  {
   "cell_type": "code",
   "execution_count": 150,
   "id": "14329c73",
   "metadata": {},
   "outputs": [
    {
     "data": {
      "text/plain": [
       "5"
      ]
     },
     "execution_count": 150,
     "metadata": {},
     "output_type": "execute_result"
    }
   ],
   "source": [
    "gcd(10,25)"
   ]
  },
  {
   "cell_type": "code",
   "execution_count": 151,
   "id": "a8953fa6",
   "metadata": {},
   "outputs": [
    {
     "data": {
      "text/plain": [
       "16"
      ]
     },
     "execution_count": 151,
     "metadata": {},
     "output_type": "execute_result"
    }
   ],
   "source": [
    "gcd(16,32)"
   ]
  },
  {
   "cell_type": "markdown",
   "id": "b81ef318",
   "metadata": {},
   "source": [
    "# map and filter function    \n",
    "# map can help us to apply a function on multiple input data"
   ]
  },
  {
   "cell_type": "code",
   "execution_count": 42,
   "id": "c639907a",
   "metadata": {},
   "outputs": [],
   "source": [
    "def square(x):\n",
    "    return x** 2\n",
    "\n"
   ]
  },
  {
   "cell_type": "code",
   "execution_count": 43,
   "id": "b6ab9f1c",
   "metadata": {},
   "outputs": [],
   "source": [
    "l =[1,2,8,12,44]"
   ]
  },
  {
   "cell_type": "code",
   "execution_count": 44,
   "id": "b771a338",
   "metadata": {},
   "outputs": [],
   "source": [
    "output = map(square,l)"
   ]
  },
  {
   "cell_type": "code",
   "execution_count": 46,
   "id": "f98dfa9e",
   "metadata": {},
   "outputs": [
    {
     "data": {
      "text/plain": [
       "[1, 4, 64, 144, 1936]"
      ]
     },
     "execution_count": 46,
     "metadata": {},
     "output_type": "execute_result"
    }
   ],
   "source": [
    "list(output)"
   ]
  },
  {
   "cell_type": "code",
   "execution_count": 52,
   "id": "2cd0b68e",
   "metadata": {},
   "outputs": [],
   "source": [
    "\n",
    "def prime(number):               \n",
    "    factors =[]\n",
    "    for i in range(1,number+1):\n",
    "        if number % i == 0:\n",
    "            factors.append(i)\n",
    "    if len(factors) == 2:\n",
    "        return True\n",
    "    else:\n",
    "        return False"
   ]
  },
  {
   "cell_type": "code",
   "execution_count": 53,
   "id": "294f848e",
   "metadata": {},
   "outputs": [],
   "source": [
    "output = filter(prime,range(50,70))"
   ]
  },
  {
   "cell_type": "code",
   "execution_count": 54,
   "id": "f71bc7b8",
   "metadata": {},
   "outputs": [
    {
     "data": {
      "text/plain": [
       "[53, 59, 61, 67]"
      ]
     },
     "execution_count": 54,
     "metadata": {},
     "output_type": "execute_result"
    }
   ],
   "source": [
    "list(output)"
   ]
  },
  {
   "cell_type": "code",
   "execution_count": 55,
   "id": "582ee1ba",
   "metadata": {},
   "outputs": [],
   "source": [
    "# filter will give us only the true values"
   ]
  },
  {
   "cell_type": "markdown",
   "id": "9f7efde8",
   "metadata": {},
   "source": [
    "# exception or error handeling"
   ]
  },
  {
   "cell_type": "code",
   "execution_count": 57,
   "id": "e4706ad7",
   "metadata": {},
   "outputs": [],
   "source": [
    "v1 =0\n",
    "v2=25\n",
    "v3 =4\n",
    "v4 =97"
   ]
  },
  {
   "cell_type": "code",
   "execution_count": 61,
   "id": "641bf95a",
   "metadata": {},
   "outputs": [],
   "source": [
    "def divide(x,y):\n",
    "    try:\n",
    "        return x/y\n",
    "    except: \n",
    "        return\"send correct input\"\n",
    "        \n",
    "        "
   ]
  },
  {
   "cell_type": "code",
   "execution_count": 62,
   "id": "58f872ff",
   "metadata": {},
   "outputs": [
    {
     "data": {
      "text/plain": [
       "'send correct input'"
      ]
     },
     "execution_count": 62,
     "metadata": {},
     "output_type": "execute_result"
    }
   ],
   "source": [
    "divide(10,\"jgdvj\")"
   ]
  },
  {
   "cell_type": "code",
   "execution_count": 65,
   "id": "450db786",
   "metadata": {},
   "outputs": [],
   "source": [
    "def divide(x,y):\n",
    "    try:\n",
    "        return x/y\n",
    "    except TypeError: \n",
    "        return\"b should be int not string\"\n",
    "    except ZeroDivisionError :\n",
    "        return\" b should be non zero int\"\n",
    "    except :\n",
    "          return\"send correct input\"\n",
    "        "
   ]
  },
  {
   "cell_type": "code",
   "execution_count": 66,
   "id": "1fedc425",
   "metadata": {},
   "outputs": [
    {
     "data": {
      "text/plain": [
       "'b should be int not string'"
      ]
     },
     "execution_count": 66,
     "metadata": {},
     "output_type": "execute_result"
    }
   ],
   "source": [
    "divide(10,\"jgdvj\")"
   ]
  },
  {
   "cell_type": "code",
   "execution_count": 67,
   "id": "e728457c",
   "metadata": {},
   "outputs": [
    {
     "data": {
      "text/plain": [
       "' b should be non zero int'"
      ]
     },
     "execution_count": 67,
     "metadata": {},
     "output_type": "execute_result"
    }
   ],
   "source": [
    "divide(10,0)"
   ]
  },
  {
   "cell_type": "code",
   "execution_count": null,
   "id": "5969c4ee",
   "metadata": {},
   "outputs": [],
   "source": []
  },
  {
   "cell_type": "markdown",
   "id": "4b9961c2",
   "metadata": {},
   "source": [
    "# library"
   ]
  },
  {
   "cell_type": "code",
   "execution_count": null,
   "id": "8e3b14e9",
   "metadata": {},
   "outputs": [],
   "source": [
    "#"
   ]
  },
  {
   "cell_type": "raw",
   "id": "4cd26ec1",
   "metadata": {},
   "source": []
  }
 ],
 "metadata": {
  "kernelspec": {
   "display_name": "Python 3 (ipykernel)",
   "language": "python",
   "name": "python3"
  },
  "language_info": {
   "codemirror_mode": {
    "name": "ipython",
    "version": 3
   },
   "file_extension": ".py",
   "mimetype": "text/x-python",
   "name": "python",
   "nbconvert_exporter": "python",
   "pygments_lexer": "ipython3",
   "version": "3.9.13"
  }
 },
 "nbformat": 4,
 "nbformat_minor": 5
}
