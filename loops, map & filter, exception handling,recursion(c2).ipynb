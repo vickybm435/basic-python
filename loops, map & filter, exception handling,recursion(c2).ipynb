{
 "cells": [
  {
   "cell_type": "code",
   "execution_count": 17,
   "id": "79328f45",
   "metadata": {},
   "outputs": [],
   "source": [
    "a = [0,1,2,3,4,5,6,7,8,9]"
   ]
  },
  {
   "cell_type": "code",
   "execution_count": 18,
   "id": "f3b5d2a4",
   "metadata": {},
   "outputs": [],
   "source": [
    "b= []\n",
    "for i in a:\n",
    "    b.append(i+1)"
   ]
  },
  {
   "cell_type": "code",
   "execution_count": 19,
   "id": "66f19bbe",
   "metadata": {},
   "outputs": [
    {
     "data": {
      "text/plain": [
       "[1, 2, 3, 4, 5, 6, 7, 8, 9, 10]"
      ]
     },
     "execution_count": 19,
     "metadata": {},
     "output_type": "execute_result"
    }
   ],
   "source": [
    "b"
   ]
  },
  {
   "cell_type": "code",
   "execution_count": 20,
   "id": "730cdd3b",
   "metadata": {},
   "outputs": [
    {
     "name": "stdout",
     "output_type": "stream",
     "text": [
      "0\n",
      "1\n",
      "2\n",
      "3\n",
      "4\n",
      "5\n",
      "6\n",
      "7\n",
      "8\n",
      "9\n"
     ]
    }
   ],
   "source": [
    "for i in a:\n",
    "    print(i)"
   ]
  },
  {
   "cell_type": "code",
   "execution_count": 25,
   "id": "304d432c",
   "metadata": {},
   "outputs": [
    {
     "name": "stdout",
     "output_type": "stream",
     "text": [
      "[0, 1, 4, 9, 16, 25, 36, 49, 64, 81]\n"
     ]
    }
   ],
   "source": [
    "b= []\n",
    "for i in a:\n",
    "    b.append(i**2)\n",
    "print(b)"
   ]
  },
  {
   "cell_type": "code",
   "execution_count": 26,
   "id": "9d49c00e",
   "metadata": {},
   "outputs": [],
   "source": [
    "# sum of the numbers of a list"
   ]
  },
  {
   "cell_type": "code",
   "execution_count": 30,
   "id": "41bfb014",
   "metadata": {},
   "outputs": [],
   "source": [
    "l = [1,9,23,12]"
   ]
  },
  {
   "cell_type": "code",
   "execution_count": 39,
   "id": "e5643672",
   "metadata": {},
   "outputs": [],
   "source": [
    "x = 0\n",
    "for i in l:\n",
    "    x = (i + x)"
   ]
  },
  {
   "cell_type": "code",
   "execution_count": 40,
   "id": "bc81188d",
   "metadata": {},
   "outputs": [
    {
     "data": {
      "text/plain": [
       "45"
      ]
     },
     "execution_count": 40,
     "metadata": {},
     "output_type": "execute_result"
    }
   ],
   "source": [
    "x"
   ]
  },
  {
   "cell_type": "code",
   "execution_count": null,
   "id": "6e043d71",
   "metadata": {},
   "outputs": [],
   "source": [
    "# for multiplication"
   ]
  },
  {
   "cell_type": "code",
   "execution_count": 41,
   "id": "2254ffe6",
   "metadata": {},
   "outputs": [],
   "source": [
    "x = 1\n",
    "for i in l:\n",
    "    x = (x * i)"
   ]
  },
  {
   "cell_type": "code",
   "execution_count": 42,
   "id": "f768604d",
   "metadata": {},
   "outputs": [
    {
     "data": {
      "text/plain": [
       "2484"
      ]
     },
     "execution_count": 42,
     "metadata": {},
     "output_type": "execute_result"
    }
   ],
   "source": [
    "x"
   ]
  },
  {
   "cell_type": "markdown",
   "id": "f51fa6b4",
   "metadata": {},
   "source": [
    "# if else condition"
   ]
  },
  {
   "cell_type": "code",
   "execution_count": 43,
   "id": "0a622f80",
   "metadata": {},
   "outputs": [
    {
     "name": "stdout",
     "output_type": "stream",
     "text": [
      "yes\n"
     ]
    }
   ],
   "source": [
    "a = 10\n",
    "if a == 10:\n",
    "    print(\"yes\")"
   ]
  },
  {
   "cell_type": "code",
   "execution_count": 47,
   "id": "5eb714b6",
   "metadata": {},
   "outputs": [
    {
     "name": "stdout",
     "output_type": "stream",
     "text": [
      "no\n"
     ]
    }
   ],
   "source": [
    "a = 11\n",
    "if a == 10:\n",
    "    print(\"yes\")\n",
    "else:\n",
    "    print(\"no\")"
   ]
  },
  {
   "cell_type": "code",
   "execution_count": 48,
   "id": "2f186ddb",
   "metadata": {},
   "outputs": [
    {
     "name": "stdout",
     "output_type": "stream",
     "text": [
      "a is grater than 10\n"
     ]
    }
   ],
   "source": [
    "a = 12\n",
    "if a == 10:\n",
    "    print(\"a is  equal to 10\")\n",
    "elif a > 10:\n",
    "    print(\"a is grater than 10\")\n",
    "else:\n",
    "    print(\"a is smaller than 10\")"
   ]
  },
  {
   "cell_type": "code",
   "execution_count": 49,
   "id": "9ef7be7e",
   "metadata": {},
   "outputs": [],
   "source": [
    "x = 10\n",
    "if x == 10:\n",
    "    x = 12\n",
    "elif x == 12:\n",
    "    x = 15\n",
    "else : \n",
    "    x = 1"
   ]
  },
  {
   "cell_type": "code",
   "execution_count": 50,
   "id": "803ef036",
   "metadata": {},
   "outputs": [
    {
     "data": {
      "text/plain": [
       "12"
      ]
     },
     "execution_count": 50,
     "metadata": {},
     "output_type": "execute_result"
    }
   ],
   "source": [
    "x"
   ]
  },
  {
   "cell_type": "code",
   "execution_count": 55,
   "id": "631691f5",
   "metadata": {},
   "outputs": [],
   "source": [
    "x = [10,11,13,15,12,19,21,89.2,12.5,11.88]"
   ]
  },
  {
   "cell_type": "code",
   "execution_count": 56,
   "id": "8eeec096",
   "metadata": {},
   "outputs": [],
   "source": [
    "l1= []\n",
    "l2 =[]\n",
    "l3 = []\n",
    "\n",
    "for i in x:\n",
    "    if i %2 == 0:\n",
    "        l1.append(i)\n",
    "    elif i %2 == 1:\n",
    "        l2.append(i)\n",
    "    else:\n",
    "        l3.append(i)"
   ]
  },
  {
   "cell_type": "code",
   "execution_count": 53,
   "id": "6334de32",
   "metadata": {},
   "outputs": [
    {
     "data": {
      "text/plain": [
       "[10, 12]"
      ]
     },
     "execution_count": 53,
     "metadata": {},
     "output_type": "execute_result"
    }
   ],
   "source": [
    "l1"
   ]
  },
  {
   "cell_type": "code",
   "execution_count": 54,
   "id": "6f6de800",
   "metadata": {},
   "outputs": [
    {
     "data": {
      "text/plain": [
       "[11, 13, 15, 19, 21, 89]"
      ]
     },
     "execution_count": 54,
     "metadata": {},
     "output_type": "execute_result"
    }
   ],
   "source": [
    "l2"
   ]
  },
  {
   "cell_type": "code",
   "execution_count": 57,
   "id": "61585736",
   "metadata": {},
   "outputs": [
    {
     "data": {
      "text/plain": [
       "[89.2, 12.5, 11.88]"
      ]
     },
     "execution_count": 57,
     "metadata": {},
     "output_type": "execute_result"
    }
   ],
   "source": [
    "l3"
   ]
  },
  {
   "cell_type": "code",
   "execution_count": 73,
   "id": "a86eaacf",
   "metadata": {},
   "outputs": [],
   "source": [
    "x= 289"
   ]
  },
  {
   "cell_type": "code",
   "execution_count": 74,
   "id": "2544f86d",
   "metadata": {},
   "outputs": [],
   "source": [
    "n= []\n",
    "for i in range(1,x +1):\n",
    "    if x % i == 0:\n",
    "        n.append(i)\n",
    "    \n",
    "    "
   ]
  },
  {
   "cell_type": "code",
   "execution_count": 75,
   "id": "decbd318",
   "metadata": {},
   "outputs": [
    {
     "data": {
      "text/plain": [
       "[1, 17, 289]"
      ]
     },
     "execution_count": 75,
     "metadata": {},
     "output_type": "execute_result"
    }
   ],
   "source": [
    "n"
   ]
  },
  {
   "cell_type": "markdown",
   "id": "a146c606",
   "metadata": {},
   "source": [
    " # Function "
   ]
  },
  {
   "cell_type": "code",
   "execution_count": 78,
   "id": "1678f934",
   "metadata": {},
   "outputs": [],
   "source": [
    "def even_odd(x):\n",
    "    if x% 2 == 0:\n",
    "        print(\"even\")\n",
    "    elif x% 2 == 1:\n",
    "        print(\"odd\")"
   ]
  },
  {
   "cell_type": "code",
   "execution_count": 79,
   "id": "6ac157c6",
   "metadata": {},
   "outputs": [
    {
     "name": "stdout",
     "output_type": "stream",
     "text": [
      "odd\n"
     ]
    }
   ],
   "source": [
    "even_odd(25)"
   ]
  },
  {
   "cell_type": "code",
   "execution_count": 91,
   "id": "0fe0d5c4",
   "metadata": {},
   "outputs": [],
   "source": [
    "def get_factors(number):\n",
    "    n= []\n",
    "    for i in range(1,number+1):\n",
    "        if number % i == 0:\n",
    "            n.append(i)\n",
    "    print(n)"
   ]
  },
  {
   "cell_type": "code",
   "execution_count": 92,
   "id": "cef6fef6",
   "metadata": {},
   "outputs": [
    {
     "name": "stdout",
     "output_type": "stream",
     "text": [
      "[1, 5, 25]\n"
     ]
    }
   ],
   "source": [
    "get_factors(25)"
   ]
  },
  {
   "cell_type": "code",
   "execution_count": 95,
   "id": "dfe3cafe",
   "metadata": {},
   "outputs": [],
   "source": [
    "def prime(number):\n",
    "    n= []\n",
    "    for i in range(1,number+1):\n",
    "        if number % i == 0:\n",
    "            n.append(i)\n",
    "    if len(n) == 2:\n",
    "        print(\"it's a prime number\")\n",
    "    else:\n",
    "        print(\"it's not a prime number\")\n"
   ]
  },
  {
   "cell_type": "code",
   "execution_count": 96,
   "id": "5a1d6ccc",
   "metadata": {},
   "outputs": [
    {
     "name": "stdout",
     "output_type": "stream",
     "text": [
      "it's not a prime number\n"
     ]
    }
   ],
   "source": [
    "prime(25)"
   ]
  },
  {
   "cell_type": "code",
   "execution_count": 97,
   "id": "71b6a45e",
   "metadata": {},
   "outputs": [
    {
     "name": "stdout",
     "output_type": "stream",
     "text": [
      "*\n",
      "**\n",
      "***\n",
      "****\n",
      "*****\n"
     ]
    }
   ],
   "source": [
    "for i in range(1,6):\n",
    "    for j in range(1,i+1):\n",
    "        print(\"*\",end = \"\")\n",
    "    print(\"\")"
   ]
  },
  {
   "cell_type": "code",
   "execution_count": 14,
   "id": "8ade25a3",
   "metadata": {},
   "outputs": [
    {
     "name": "stdout",
     "output_type": "stream",
     "text": [
      "please enter the number :25\n",
      "please enter the number15\n",
      "the greatest common factors are 5\n"
     ]
    }
   ],
   "source": [
    "x = int(input(\"please enter the number :\"))\n",
    "y = int(input(\"please enter the number\"))\n",
    "l = []\n",
    "m = []\n",
    "for i in range(1,x+1):\n",
    "    if x % i== 0:\n",
    "        l.append(i)\n",
    "for j in range(1,y+1):\n",
    "    if y%j == 0:\n",
    "        m.append(j)\n",
    "\n",
    "z = set(l) & set(m)\n",
    "print(\"the greatest common factors are\", max(z))\n",
    "        \n",
    "        "
   ]
  },
  {
   "cell_type": "code",
   "execution_count": 15,
   "id": "27616ded",
   "metadata": {},
   "outputs": [],
   "source": [
    "def mult(a =1 ,b =1):\n",
    "    return a *b"
   ]
  },
  {
   "cell_type": "code",
   "execution_count": 17,
   "id": "87b76646",
   "metadata": {},
   "outputs": [
    {
     "data": {
      "text/plain": [
       "150"
      ]
     },
     "execution_count": 17,
     "metadata": {},
     "output_type": "execute_result"
    }
   ],
   "source": [
    "mult(10,15)"
   ]
  },
  {
   "cell_type": "markdown",
   "id": "16c80113",
   "metadata": {},
   "source": [
    "# list comprehension"
   ]
  },
  {
   "cell_type": "code",
   "execution_count": 18,
   "id": "ec444b50",
   "metadata": {},
   "outputs": [],
   "source": [
    "l = [1,3,5,5,7]"
   ]
  },
  {
   "cell_type": "code",
   "execution_count": 20,
   "id": "53cac972",
   "metadata": {},
   "outputs": [
    {
     "data": {
      "text/plain": [
       "[2, 4, 6, 6, 8]"
      ]
     },
     "execution_count": 20,
     "metadata": {},
     "output_type": "execute_result"
    }
   ],
   "source": [
    "l2 = [i+1 for i in l ]\n",
    "l2"
   ]
  },
  {
   "cell_type": "code",
   "execution_count": 21,
   "id": "700c9c9f",
   "metadata": {},
   "outputs": [],
   "source": [
    "l = [1,3,5,10,11,12]"
   ]
  },
  {
   "cell_type": "code",
   "execution_count": 22,
   "id": "ab5fa0b9",
   "metadata": {},
   "outputs": [],
   "source": [
    "l2 = [i for i in l if i % 2 == 1]"
   ]
  },
  {
   "cell_type": "code",
   "execution_count": 23,
   "id": "fe8a532b",
   "metadata": {},
   "outputs": [
    {
     "data": {
      "text/plain": [
       "[1, 3, 5, 11]"
      ]
     },
     "execution_count": 23,
     "metadata": {},
     "output_type": "execute_result"
    }
   ],
   "source": [
    "l2"
   ]
  },
  {
   "cell_type": "markdown",
   "id": "3f5e0950",
   "metadata": {},
   "source": [
    "# map and filter"
   ]
  },
  {
   "cell_type": "code",
   "execution_count": 32,
   "id": "7b41bdf9",
   "metadata": {},
   "outputs": [],
   "source": [
    "def fun(x):\n",
    "    return x** 2"
   ]
  },
  {
   "cell_type": "code",
   "execution_count": 33,
   "id": "33f9313a",
   "metadata": {},
   "outputs": [
    {
     "data": {
      "text/plain": [
       "100"
      ]
     },
     "execution_count": 33,
     "metadata": {},
     "output_type": "execute_result"
    }
   ],
   "source": [
    "fun(10)"
   ]
  },
  {
   "cell_type": "code",
   "execution_count": 40,
   "id": "5be1e907",
   "metadata": {},
   "outputs": [],
   "source": [
    "output = map(fun,[10,20,25,55,41,1])"
   ]
  },
  {
   "cell_type": "code",
   "execution_count": 41,
   "id": "5451d995",
   "metadata": {},
   "outputs": [
    {
     "data": {
      "text/plain": [
       "[100, 400, 625, 3025, 1681, 1]"
      ]
     },
     "execution_count": 41,
     "metadata": {},
     "output_type": "execute_result"
    }
   ],
   "source": [
    "list(output)"
   ]
  },
  {
   "cell_type": "code",
   "execution_count": 49,
   "id": "f7bfabb5",
   "metadata": {},
   "outputs": [],
   "source": [
    "def factors(x):\n",
    "    n = []\n",
    "    for i in range(1,x+1):\n",
    "        if x % i == 0:\n",
    "            n.append(i)\n",
    "    return(n)\n",
    "    "
   ]
  },
  {
   "cell_type": "code",
   "execution_count": 50,
   "id": "cee954f8",
   "metadata": {},
   "outputs": [],
   "source": [
    "x = map(factors,[5,25,34,26])"
   ]
  },
  {
   "cell_type": "code",
   "execution_count": 51,
   "id": "b2a36bd2",
   "metadata": {},
   "outputs": [
    {
     "data": {
      "text/plain": [
       "[[1, 5], [1, 5, 25], [1, 2, 17, 34], [1, 2, 13, 26]]"
      ]
     },
     "execution_count": 51,
     "metadata": {},
     "output_type": "execute_result"
    }
   ],
   "source": [
    "list(x)"
   ]
  },
  {
   "cell_type": "code",
   "execution_count": 52,
   "id": "7c1277a8",
   "metadata": {},
   "outputs": [],
   "source": [
    "#filter"
   ]
  },
  {
   "cell_type": "code",
   "execution_count": 53,
   "id": "78e55896",
   "metadata": {},
   "outputs": [],
   "source": [
    "def fun(x):\n",
    "    return x%2 == 0"
   ]
  },
  {
   "cell_type": "code",
   "execution_count": 54,
   "id": "e6569e4d",
   "metadata": {},
   "outputs": [],
   "source": [
    "output = filter(fun,[2,4,3,1,20])"
   ]
  },
  {
   "cell_type": "code",
   "execution_count": 55,
   "id": "88cff270",
   "metadata": {},
   "outputs": [
    {
     "data": {
      "text/plain": [
       "[2, 4, 20]"
      ]
     },
     "execution_count": 55,
     "metadata": {},
     "output_type": "execute_result"
    }
   ],
   "source": [
    "list(output)"
   ]
  },
  {
   "cell_type": "code",
   "execution_count": 57,
   "id": "8b2a66a2",
   "metadata": {},
   "outputs": [],
   "source": [
    "??factors"
   ]
  },
  {
   "cell_type": "markdown",
   "id": "efe2f695",
   "metadata": {},
   "source": [
    "# lambda\n"
   ]
  },
  {
   "cell_type": "code",
   "execution_count": 1,
   "id": "2153f083",
   "metadata": {},
   "outputs": [],
   "source": [
    "fun = lambda x:x**2"
   ]
  },
  {
   "cell_type": "code",
   "execution_count": 3,
   "id": "278b25c3",
   "metadata": {},
   "outputs": [],
   "source": [
    "even_odd = lambda x : x%2 == 0"
   ]
  },
  {
   "cell_type": "code",
   "execution_count": 4,
   "id": "05b2f39b",
   "metadata": {},
   "outputs": [
    {
     "data": {
      "text/plain": [
       "False"
      ]
     },
     "execution_count": 4,
     "metadata": {},
     "output_type": "execute_result"
    }
   ],
   "source": [
    "even_odd(3)"
   ]
  },
  {
   "cell_type": "code",
   "execution_count": 5,
   "id": "9e288986",
   "metadata": {},
   "outputs": [
    {
     "data": {
      "text/plain": [
       "True"
      ]
     },
     "execution_count": 5,
     "metadata": {},
     "output_type": "execute_result"
    }
   ],
   "source": [
    "even_odd(2)"
   ]
  },
  {
   "cell_type": "code",
   "execution_count": 8,
   "id": "0b99906a",
   "metadata": {},
   "outputs": [],
   "source": [
    "mult = lambda x,y : x*y"
   ]
  },
  {
   "cell_type": "code",
   "execution_count": 9,
   "id": "fcd7076d",
   "metadata": {},
   "outputs": [
    {
     "data": {
      "text/plain": [
       "6"
      ]
     },
     "execution_count": 9,
     "metadata": {},
     "output_type": "execute_result"
    }
   ],
   "source": [
    "mult(3,2)"
   ]
  },
  {
   "cell_type": "code",
   "execution_count": 10,
   "id": "b169f7d7",
   "metadata": {},
   "outputs": [
    {
     "data": {
      "text/plain": [
       "12500"
      ]
     },
     "execution_count": 10,
     "metadata": {},
     "output_type": "execute_result"
    }
   ],
   "source": [
    "mult(50,250)"
   ]
  },
  {
   "cell_type": "code",
   "execution_count": 17,
   "id": "6deefb50",
   "metadata": {},
   "outputs": [],
   "source": [
    "factors = lambda x :[i for i in range(1,x+1) if x%i == 0 ]"
   ]
  },
  {
   "cell_type": "code",
   "execution_count": 19,
   "id": "40778b13",
   "metadata": {},
   "outputs": [
    {
     "data": {
      "text/plain": [
       "[1, 5, 7, 35]"
      ]
     },
     "execution_count": 19,
     "metadata": {},
     "output_type": "execute_result"
    }
   ],
   "source": [
    "factors(35)"
   ]
  },
  {
   "cell_type": "code",
   "execution_count": 22,
   "id": "ec618957",
   "metadata": {},
   "outputs": [],
   "source": [
    "prime = lambda x: len([i for i in range(1,x+1) if x%i == 0])== 2"
   ]
  },
  {
   "cell_type": "code",
   "execution_count": 21,
   "id": "4600b2ba",
   "metadata": {},
   "outputs": [],
   "source": [
    "common_factors = lambda x,y : [i for i in range(1,min(x,y)+1) if x%i == 0 and y %i == 0]"
   ]
  },
  {
   "cell_type": "code",
   "execution_count": 23,
   "id": "17264535",
   "metadata": {},
   "outputs": [
    {
     "data": {
      "text/plain": [
       "True"
      ]
     },
     "execution_count": 23,
     "metadata": {},
     "output_type": "execute_result"
    }
   ],
   "source": [
    "prime(5)"
   ]
  },
  {
   "cell_type": "code",
   "execution_count": 24,
   "id": "d374f689",
   "metadata": {},
   "outputs": [
    {
     "data": {
      "text/plain": [
       "False"
      ]
     },
     "execution_count": 24,
     "metadata": {},
     "output_type": "execute_result"
    }
   ],
   "source": [
    "prime(6)"
   ]
  },
  {
   "cell_type": "markdown",
   "id": "44b98025",
   "metadata": {},
   "source": [
    "# Exception handling"
   ]
  },
  {
   "cell_type": "code",
   "execution_count": 25,
   "id": "866b6be6",
   "metadata": {},
   "outputs": [],
   "source": [
    "def fun(x,y):\n",
    "    return x/y"
   ]
  },
  {
   "cell_type": "code",
   "execution_count": 26,
   "id": "a7c29985",
   "metadata": {},
   "outputs": [
    {
     "data": {
      "text/plain": [
       "2.0"
      ]
     },
     "execution_count": 26,
     "metadata": {},
     "output_type": "execute_result"
    }
   ],
   "source": [
    "fun(20,10)"
   ]
  },
  {
   "cell_type": "code",
   "execution_count": 27,
   "id": "290070e2",
   "metadata": {},
   "outputs": [
    {
     "ename": "ZeroDivisionError",
     "evalue": "division by zero",
     "output_type": "error",
     "traceback": [
      "\u001b[1;31m---------------------------------------------------------------------------\u001b[0m",
      "\u001b[1;31mZeroDivisionError\u001b[0m                         Traceback (most recent call last)",
      "\u001b[1;32m~\\AppData\\Local\\Temp\\ipykernel_2472\\3306509711.py\u001b[0m in \u001b[0;36m<module>\u001b[1;34m\u001b[0m\n\u001b[1;32m----> 1\u001b[1;33m \u001b[0mfun\u001b[0m\u001b[1;33m(\u001b[0m\u001b[1;36m20\u001b[0m\u001b[1;33m,\u001b[0m\u001b[1;36m0\u001b[0m\u001b[1;33m)\u001b[0m\u001b[1;33m\u001b[0m\u001b[1;33m\u001b[0m\u001b[0m\n\u001b[0m",
      "\u001b[1;32m~\\AppData\\Local\\Temp\\ipykernel_2472\\3407487092.py\u001b[0m in \u001b[0;36mfun\u001b[1;34m(x, y)\u001b[0m\n\u001b[0;32m      1\u001b[0m \u001b[1;32mdef\u001b[0m \u001b[0mfun\u001b[0m\u001b[1;33m(\u001b[0m\u001b[0mx\u001b[0m\u001b[1;33m,\u001b[0m\u001b[0my\u001b[0m\u001b[1;33m)\u001b[0m\u001b[1;33m:\u001b[0m\u001b[1;33m\u001b[0m\u001b[1;33m\u001b[0m\u001b[0m\n\u001b[1;32m----> 2\u001b[1;33m     \u001b[1;32mreturn\u001b[0m \u001b[0mx\u001b[0m\u001b[1;33m/\u001b[0m\u001b[0my\u001b[0m\u001b[1;33m\u001b[0m\u001b[1;33m\u001b[0m\u001b[0m\n\u001b[0m",
      "\u001b[1;31mZeroDivisionError\u001b[0m: division by zero"
     ]
    }
   ],
   "source": [
    "fun(20,0)"
   ]
  },
  {
   "cell_type": "code",
   "execution_count": 28,
   "id": "01fa1716",
   "metadata": {},
   "outputs": [],
   "source": [
    "x1 = 10\n",
    "x2 = 20\n",
    "try:\n",
    "    x3 = 20/0\n",
    "except : \n",
    "    x3 = 0\n",
    "x4 = 23"
   ]
  },
  {
   "cell_type": "code",
   "execution_count": 50,
   "id": "c75b4e4a",
   "metadata": {},
   "outputs": [],
   "source": [
    " def fun(x,y):\n",
    "        try:\n",
    "            return x/y\n",
    "        except:\n",
    "            return(\"we found an error\")"
   ]
  },
  {
   "cell_type": "code",
   "execution_count": 51,
   "id": "88490a6a",
   "metadata": {},
   "outputs": [
    {
     "data": {
      "text/plain": [
       "'we found an error'"
      ]
     },
     "execution_count": 51,
     "metadata": {},
     "output_type": "execute_result"
    }
   ],
   "source": [
    "fun(20,0)"
   ]
  },
  {
   "cell_type": "markdown",
   "id": "9cb1f04d",
   "metadata": {},
   "source": [
    "# recursion"
   ]
  },
  {
   "cell_type": "code",
   "execution_count": 55,
   "id": "53e046fb",
   "metadata": {},
   "outputs": [],
   "source": [
    "def fun(x):\n",
    "    if x == 0:\n",
    "        return 1\n",
    "    else : \n",
    "        return fun(x-1) +1"
   ]
  },
  {
   "cell_type": "code",
   "execution_count": null,
   "id": "26257166",
   "metadata": {},
   "outputs": [],
   "source": [
    "fun(5) --> fun(4)+1--> fun(3)+2--> fun(2)+3--> fun(1)+4--> fun(0)+5--> 1+5= 6"
   ]
  },
  {
   "cell_type": "code",
   "execution_count": 56,
   "id": "8035ac5d",
   "metadata": {},
   "outputs": [],
   "source": [
    "#factorial"
   ]
  },
  {
   "cell_type": "code",
   "execution_count": 67,
   "id": "fd92d560",
   "metadata": {},
   "outputs": [],
   "source": [
    "def fact(x):\n",
    "    if x == 1:\n",
    "        return 1\n",
    "    else : \n",
    "        return fact(x-1) * x"
   ]
  },
  {
   "cell_type": "code",
   "execution_count": 68,
   "id": "47bfc65a",
   "metadata": {},
   "outputs": [
    {
     "data": {
      "text/plain": [
       "6"
      ]
     },
     "execution_count": 68,
     "metadata": {},
     "output_type": "execute_result"
    }
   ],
   "source": [
    "fact(3)"
   ]
  },
  {
   "cell_type": "code",
   "execution_count": 69,
   "id": "33480438",
   "metadata": {},
   "outputs": [
    {
     "data": {
      "text/plain": [
       "120"
      ]
     },
     "execution_count": 69,
     "metadata": {},
     "output_type": "execute_result"
    }
   ],
   "source": [
    "fact(5)"
   ]
  },
  {
   "cell_type": "code",
   "execution_count": 70,
   "id": "fe225f11",
   "metadata": {},
   "outputs": [],
   "source": [
    "#fibonacci"
   ]
  },
  {
   "cell_type": "code",
   "execution_count": 9,
   "id": "2cf52740",
   "metadata": {},
   "outputs": [],
   "source": [
    "def fibonacci(x):\n",
    "  \n",
    "        if x == 1:\n",
    "            return 0\n",
    "        if x == 2:\n",
    "            return 1\n",
    "        else :\n",
    "            return fibonacci(x-1)+fibonacci (x-2)"
   ]
  },
  {
   "cell_type": "code",
   "execution_count": 10,
   "id": "3829f8f6",
   "metadata": {},
   "outputs": [
    {
     "data": {
      "text/plain": [
       "3"
      ]
     },
     "execution_count": 10,
     "metadata": {},
     "output_type": "execute_result"
    }
   ],
   "source": [
    "fibonacci(5)"
   ]
  },
  {
   "cell_type": "code",
   "execution_count": 11,
   "id": "4c7d3b88",
   "metadata": {},
   "outputs": [],
   "source": [
    "output = map(fibonacci,range(1,10))"
   ]
  },
  {
   "cell_type": "code",
   "execution_count": 12,
   "id": "c6f64d44",
   "metadata": {},
   "outputs": [
    {
     "data": {
      "text/plain": [
       "[0, 1, 1, 2, 3, 5, 8, 13, 21]"
      ]
     },
     "execution_count": 12,
     "metadata": {},
     "output_type": "execute_result"
    }
   ],
   "source": [
    "list(output)"
   ]
  },
  {
   "cell_type": "markdown",
   "id": "8dfd5a6a",
   "metadata": {},
   "source": [
    "# iter object"
   ]
  },
  {
   "cell_type": "code",
   "execution_count": 82,
   "id": "b8ace61d",
   "metadata": {},
   "outputs": [],
   "source": [
    "l = [i for i in range(1,10)]"
   ]
  },
  {
   "cell_type": "code",
   "execution_count": 85,
   "id": "19a4a35e",
   "metadata": {},
   "outputs": [],
   "source": [
    "l = (i for i in range(1,1000000000000000))"
   ]
  },
  {
   "cell_type": "code",
   "execution_count": 86,
   "id": "a27e956e",
   "metadata": {},
   "outputs": [
    {
     "data": {
      "text/plain": [
       "1"
      ]
     },
     "execution_count": 86,
     "metadata": {},
     "output_type": "execute_result"
    }
   ],
   "source": [
    "next(l)"
   ]
  },
  {
   "cell_type": "code",
   "execution_count": 84,
   "id": "ecc5a035",
   "metadata": {},
   "outputs": [
    {
     "data": {
      "text/plain": [
       "[1, 2, 3, 4, 5, 6, 7, 8, 9]"
      ]
     },
     "execution_count": 84,
     "metadata": {},
     "output_type": "execute_result"
    }
   ],
   "source": [
    "l"
   ]
  },
  {
   "cell_type": "markdown",
   "id": "57eceb85",
   "metadata": {},
   "source": [
    "# local and global"
   ]
  },
  {
   "cell_type": "code",
   "execution_count": 1,
   "id": "e3cb1880",
   "metadata": {},
   "outputs": [],
   "source": [
    "def fun(x):\n",
    "    global s\n",
    "    s = 10\n",
    "    return x+s"
   ]
  },
  {
   "cell_type": "code",
   "execution_count": 3,
   "id": "c0cd7178",
   "metadata": {},
   "outputs": [
    {
     "data": {
      "text/plain": [
       "15"
      ]
     },
     "execution_count": 3,
     "metadata": {},
     "output_type": "execute_result"
    }
   ],
   "source": [
    "fun(5)"
   ]
  },
  {
   "cell_type": "code",
   "execution_count": null,
   "id": "1088b6c1",
   "metadata": {},
   "outputs": [],
   "source": []
  },
  {
   "cell_type": "code",
   "execution_count": null,
   "id": "3579ea84",
   "metadata": {},
   "outputs": [],
   "source": []
  },
  {
   "cell_type": "code",
   "execution_count": null,
   "id": "02ab66ec",
   "metadata": {},
   "outputs": [],
   "source": []
  },
  {
   "cell_type": "code",
   "execution_count": 4,
   "id": "a9a095fe",
   "metadata": {},
   "outputs": [
    {
     "data": {
      "text/plain": [
       "[1, 2, 3, 4, [1, 2, 3]]"
      ]
     },
     "execution_count": 4,
     "metadata": {},
     "output_type": "execute_result"
    }
   ],
   "source": [
    "l = [1,2,3,4]\n",
    "l.append([1,2,3])\n",
    "l"
   ]
  },
  {
   "cell_type": "code",
   "execution_count": null,
   "id": "ab2b753a",
   "metadata": {},
   "outputs": [],
   "source": []
  }
 ],
 "metadata": {
  "kernelspec": {
   "display_name": "Python 3 (ipykernel)",
   "language": "python",
   "name": "python3"
  },
  "language_info": {
   "codemirror_mode": {
    "name": "ipython",
    "version": 3
   },
   "file_extension": ".py",
   "mimetype": "text/x-python",
   "name": "python",
   "nbconvert_exporter": "python",
   "pygments_lexer": "ipython3",
   "version": "3.9.13"
  }
 },
 "nbformat": 4,
 "nbformat_minor": 5
}
