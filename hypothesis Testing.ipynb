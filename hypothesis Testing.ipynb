{
 "cells": [
  {
   "cell_type": "code",
   "execution_count": 3,
   "id": "8d1b4559",
   "metadata": {},
   "outputs": [
    {
     "name": "stdout",
     "output_type": "stream",
     "text": [
      "Requirement already satisfied: scipy in c:\\users\\suhas\\new folder\\lib\\site-packages (1.9.1)\n",
      "Requirement already satisfied: numpy<1.25.0,>=1.18.5 in c:\\users\\suhas\\new folder\\lib\\site-packages (from scipy) (1.21.5)\n"
     ]
    }
   ],
   "source": [
    "!pip install scipy"
   ]
  },
  {
   "cell_type": "code",
   "execution_count": 32,
   "id": "7ead575d",
   "metadata": {},
   "outputs": [],
   "source": [
    "import pandas as pd\n",
    "import scipy\n",
    "import numpy as np\n",
    "from scipy import stats"
   ]
  },
  {
   "cell_type": "markdown",
   "id": "26594dc2",
   "metadata": {},
   "source": [
    "# super market example "
   ]
  },
  {
   "cell_type": "code",
   "execution_count": 6,
   "id": "3580dadf",
   "metadata": {},
   "outputs": [
    {
     "data": {
      "text/plain": [
       "'\\nQ1\\nHo = mu <+120\\nH1 = mu > 120\\n\\nxbar = 130\\nn = 80\\nsigma =40 '"
      ]
     },
     "execution_count": 6,
     "metadata": {},
     "output_type": "execute_result"
    }
   ],
   "source": [
    "'''\n",
    "Q1\n",
    "Ho = mu <+120\n",
    "H1 = mu > 120\n",
    "\n",
    "xbar = 130\n",
    "n = 80\n",
    "sigma =40 '''"
   ]
  },
  {
   "cell_type": "code",
   "execution_count": 7,
   "id": "2bfcaa4a",
   "metadata": {},
   "outputs": [
    {
     "data": {
      "text/plain": [
       "2.23606797749979"
      ]
     },
     "execution_count": 7,
     "metadata": {},
     "output_type": "execute_result"
    }
   ],
   "source": [
    "(130-120)/(40/pow(80,0.5))"
   ]
  },
  {
   "cell_type": "code",
   "execution_count": 11,
   "id": "a2c1a672",
   "metadata": {},
   "outputs": [
    {
     "data": {
      "text/plain": [
       "0.014292908802574056"
      ]
     },
     "execution_count": 11,
     "metadata": {},
     "output_type": "execute_result"
    }
   ],
   "source": [
    "1-stats.t.cdf(2.23,df = 79)"
   ]
  },
  {
   "cell_type": "code",
   "execution_count": 12,
   "id": "7742e958",
   "metadata": {},
   "outputs": [],
   "source": [
    "# Ho having 1.4% to be true and H1 = 98.6"
   ]
  },
  {
   "cell_type": "markdown",
   "id": "bb8a629e",
   "metadata": {},
   "source": [
    "# Call centre example"
   ]
  },
  {
   "cell_type": "code",
   "execution_count": 13,
   "id": "59c7f3de",
   "metadata": {},
   "outputs": [
    {
     "data": {
      "text/plain": [
       "'\\nQ2\\nHo = mu = 4\\nH1 = mu ! = 4\\n\\nxbar = 4.6\\nn = 50\\nsigma =3'"
      ]
     },
     "execution_count": 13,
     "metadata": {},
     "output_type": "execute_result"
    }
   ],
   "source": [
    "'''\n",
    "Q2\n",
    "Ho = mu = 4\n",
    "H1 = mu ! = 4\n",
    "\n",
    "xbar = 4.6\n",
    "n = 50\n",
    "sigma =3'''"
   ]
  },
  {
   "cell_type": "code",
   "execution_count": 14,
   "id": "04e82707",
   "metadata": {},
   "outputs": [
    {
     "data": {
      "text/plain": [
       "1.4142135623730943"
      ]
     },
     "execution_count": 14,
     "metadata": {},
     "output_type": "execute_result"
    }
   ],
   "source": [
    "T.s = (4.6-4)/(3/pow(50,0.5))"
   ]
  },
  {
   "cell_type": "code",
   "execution_count": 15,
   "id": "c9fd5742",
   "metadata": {},
   "outputs": [
    {
     "data": {
      "text/plain": [
       "0.1648559451804547"
      ]
     },
     "execution_count": 15,
     "metadata": {},
     "output_type": "execute_result"
    }
   ],
   "source": [
    "p-Value = 2* stats.t.cdf(-1.41,df = 49)"
   ]
  },
  {
   "cell_type": "code",
   "execution_count": 16,
   "id": "9851e27f",
   "metadata": {},
   "outputs": [],
   "source": [
    "# their is 16% of chance for null hypothesis to be true"
   ]
  },
  {
   "cell_type": "markdown",
   "id": "afe1f5bc",
   "metadata": {},
   "source": [
    "#  one sample test"
   ]
  },
  {
   "cell_type": "code",
   "execution_count": 28,
   "id": "802fd4cc",
   "metadata": {},
   "outputs": [
    {
     "data": {
      "text/plain": [
       "'\\nQ3\\nHo = mu <+0.3\\nH1 = mu > 0.3\\n\\nwhen the data is known use this method\\n'"
      ]
     },
     "execution_count": 28,
     "metadata": {},
     "output_type": "execute_result"
    }
   ],
   "source": [
    "'''\n",
    "Q3\n",
    "Ho = mu <+0.3\n",
    "H1 = mu > 0.3\n",
    "\n",
    "when the data is known use this method\n",
    "'''"
   ]
  },
  {
   "cell_type": "code",
   "execution_count": 21,
   "id": "dca0e07c",
   "metadata": {},
   "outputs": [],
   "source": [
    "data = [0.593,0.142,0.329,0.691,0.231,0.793,0.519,0.392,0.418]"
   ]
  },
  {
   "cell_type": "code",
   "execution_count": 22,
   "id": "a03b0c25",
   "metadata": {},
   "outputs": [],
   "source": [
    "# type1 = \"two sided\" , type2=\"Greater\" , type3 = \"less\""
   ]
  },
  {
   "cell_type": "code",
   "execution_count": 27,
   "id": "c45f3a8c",
   "metadata": {},
   "outputs": [
    {
     "data": {
      "text/plain": [
       "Ttest_1sampResult(statistic=2.2050588385131595, pvalue=0.029265164842448826)"
      ]
     },
     "execution_count": 27,
     "metadata": {},
     "output_type": "execute_result"
    }
   ],
   "source": [
    "p = scipy.stats.ttest_1samp(data,0.3,alternative = \"greater\")\n",
    "p\n",
    "# in ans we get two values ofz and p value\n",
    "# 2.9% chances foer Ho to be true"
   ]
  },
  {
   "cell_type": "markdown",
   "id": "0f18a17b",
   "metadata": {},
   "source": [
    "# Two sample test"
   ]
  },
  {
   "cell_type": "code",
   "execution_count": 29,
   "id": "bf88f451",
   "metadata": {},
   "outputs": [
    {
     "data": {
      "text/plain": [
       "'\\nQ4\\nHo = mu1 = mu2\\nH1 = mu1 ! = mu2\\n\\n'"
      ]
     },
     "execution_count": 29,
     "metadata": {},
     "output_type": "execute_result"
    }
   ],
   "source": [
    "'''\n",
    "Q4\n",
    "Ho = mu1 = mu2\n",
    "H1 = mu1 ! = mu2\n",
    "\n",
    "'''"
   ]
  },
  {
   "cell_type": "code",
   "execution_count": 34,
   "id": "9b70ca8b",
   "metadata": {},
   "outputs": [],
   "source": [
    "control = pd.Series([91,87,99,77,88,91])\n"
   ]
  },
  {
   "cell_type": "code",
   "execution_count": 36,
   "id": "80339be3",
   "metadata": {},
   "outputs": [],
   "source": [
    "treat = pd.Series([101,110,103,93,99,104])"
   ]
  },
  {
   "cell_type": "code",
   "execution_count": 37,
   "id": "1022504d",
   "metadata": {},
   "outputs": [
    {
     "data": {
      "text/plain": [
       "Ttest_indResult(statistic=-3.4456126735364876, pvalue=0.006272124350809803)"
      ]
     },
     "execution_count": 37,
     "metadata": {},
     "output_type": "execute_result"
    }
   ],
   "source": [
    "stats.ttest_ind(control,treat,alternative = \"two-sided\")"
   ]
  },
  {
   "cell_type": "code",
   "execution_count": 38,
   "id": "2c67e0fa",
   "metadata": {},
   "outputs": [],
   "source": [
    "# it means 0.6 % chances for Ho to be true"
   ]
  },
  {
   "cell_type": "code",
   "execution_count": null,
   "id": "dce1987c",
   "metadata": {},
   "outputs": [],
   "source": []
  }
 ],
 "metadata": {
  "kernelspec": {
   "display_name": "Python 3 (ipykernel)",
   "language": "python",
   "name": "python3"
  },
  "language_info": {
   "codemirror_mode": {
    "name": "ipython",
    "version": 3
   },
   "file_extension": ".py",
   "mimetype": "text/x-python",
   "name": "python",
   "nbconvert_exporter": "python",
   "pygments_lexer": "ipython3",
   "version": "3.9.13"
  }
 },
 "nbformat": 4,
 "nbformat_minor": 5
}
